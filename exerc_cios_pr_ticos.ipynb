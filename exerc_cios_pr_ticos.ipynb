{
  "nbformat": 4,
  "nbformat_minor": 0,
  "metadata": {
    "colab": {
      "provenance": []
    },
    "kernelspec": {
      "name": "python3",
      "display_name": "Python 3"
    },
    "language_info": {
      "name": "python"
    }
  },
  "cells": [
    {
      "cell_type": "markdown",
      "source": [
        "# Sobre o notebook\n",
        "\n",
        "A \"hora da prática\" é uma atividade do curso de Python para Data Science da Alura que contém diversos desafios envolvendo os aprendizados de cada aula.\n",
        "\n",
        "O notebook \"hora da pratica\" é um notebook construído com espaço para as células dos desafios propostos no curso, com ele você tem espaço para construir e executar suas soluções"
      ],
      "metadata": {
        "id": "_kwAaQ36gLQ1"
      }
    },
    {
      "cell_type": "markdown",
      "source": [
        "## Aula 1 - Introdução ao Python"
      ],
      "metadata": {
        "id": "Mc-KN0dA0Z83"
      }
    },
    {
      "cell_type": "markdown",
      "source": [
        "### Questão 1\n",
        "\n",
        "Imprima a frase `Escola de Dados da Alura!`"
      ],
      "metadata": {
        "id": "l5eLWf0W0ikn"
      }
    },
    {
      "cell_type": "code",
      "source": [
        "print('Escola de Dados da Alura!')"
      ],
      "metadata": {
        "id": "5pllxJ0h0-yA",
        "colab": {
          "base_uri": "https://localhost:8080/"
        },
        "outputId": "a1d6ce31-5960-44a9-acb4-1fca02edf3ab"
      },
      "execution_count": null,
      "outputs": [
        {
          "output_type": "stream",
          "name": "stdout",
          "text": [
            "Escola de Dados da Alura!\n"
          ]
        }
      ]
    },
    {
      "cell_type": "markdown",
      "source": [
        "### Questão 2\n",
        "Imprima na tela seu nome e seu sobrenome seguindo a estrutura abaixo:\n",
        "```\n",
        "Nome: [seu nome]\n",
        "Sobrenome: [seu sobrenome]\n",
        "```\n"
      ],
      "metadata": {
        "id": "tQdX90Ue03c7"
      }
    },
    {
      "cell_type": "code",
      "source": [
        "#Imprime os dados nome e sobrenome:\n",
        "print('Nome: [Wender]')\n",
        "print('Sobrenome: [Xavier]')"
      ],
      "metadata": {
        "id": "RVw5iKn20_Ps",
        "colab": {
          "base_uri": "https://localhost:8080/"
        },
        "outputId": "dfb47341-7ba5-454d-a2ed-d43ab9c33f91"
      },
      "execution_count": null,
      "outputs": [
        {
          "output_type": "stream",
          "name": "stdout",
          "text": [
            "Nome: [Wender]\n",
            "Sobrenome: [Xavier]\n"
          ]
        }
      ]
    },
    {
      "cell_type": "code",
      "source": [
        "#Imprime o nome, uma letra por linha:\n",
        "print('W')\n",
        "print('E')\n",
        "print('N')\n",
        "print('D')\n",
        "print('E')\n",
        "print('R')"
      ],
      "metadata": {
        "id": "v5bkrgf60_qx",
        "colab": {
          "base_uri": "https://localhost:8080/"
        },
        "outputId": "5f63cad2-c6bd-4f08-833f-e3c2c84b7cc4"
      },
      "execution_count": null,
      "outputs": [
        {
          "output_type": "stream",
          "name": "stdout",
          "text": [
            "W\n",
            "E\n",
            "N\n",
            "D\n",
            "E\n",
            "R\n"
          ]
        }
      ]
    },
    {
      "cell_type": "markdown",
      "source": [
        "### Questão 4\n",
        "Imprima o dia do seu nascimento em formato `dia mês ano`. Os valores de dia e ano não podem estar entre aspas. O formato deve estar como no exemplo, supondo uma data de aniversário dia 28 de fevereiro de 2003:\n",
        "```\n",
        "28 fevereiro 2003\n",
        "```"
      ],
      "metadata": {
        "id": "oadrJbl704MM"
      }
    },
    {
      "cell_type": "code",
      "source": [
        "#Imprime a data de nascimento:\n",
        "print(3, 'outubro', 1992)"
      ],
      "metadata": {
        "id": "cx0KSsrq1ALD",
        "colab": {
          "base_uri": "https://localhost:8080/"
        },
        "outputId": "db2756eb-d2ab-4371-ce3b-720d1ecc7664"
      },
      "execution_count": null,
      "outputs": [
        {
          "output_type": "stream",
          "name": "stdout",
          "text": [
            "3 outubro 1992\n"
          ]
        }
      ]
    },
    {
      "cell_type": "markdown",
      "source": [
        "### Questão 5\n",
        "Imprima em um único print o atual ano que você está fazendo esse curso, o valor do ano deve ser um dado numérico. A saída do print deve ser a seguinte:\n",
        "```\n",
        "Ano atual: [ano]\n",
        "```\n"
      ],
      "metadata": {
        "id": "3RgyMaan04TD"
      }
    },
    {
      "cell_type": "code",
      "execution_count": null,
      "metadata": {
        "id": "UN77EfQ2d36Y",
        "colab": {
          "base_uri": "https://localhost:8080/"
        },
        "outputId": "402a538b-810a-465b-ff09-3d0e50b63c4e"
      },
      "outputs": [
        {
          "output_type": "stream",
          "name": "stdout",
          "text": [
            "Ano atual: 2023\n"
          ]
        }
      ],
      "source": [
        "#Declara a variável ano e imprime o valor em seguida:\n",
        "ano = 2023\n",
        "print(f'Ano atual: {ano}')"
      ]
    },
    {
      "cell_type": "markdown",
      "source": [
        "## Aula 2 - Manipulando dados no Python"
      ],
      "metadata": {
        "id": "D9e3FqhO1S3X"
      }
    },
    {
      "cell_type": "markdown",
      "source": [
        "### Coleta e amostragem de dados"
      ],
      "metadata": {
        "id": "n6o7C1Ze2cRe"
      }
    },
    {
      "cell_type": "markdown",
      "source": [
        "#### Questão 1\n",
        "Crie um programa que solicite à pessoa usuária digitar seu nome, e imprima “Olá, [nome]!”."
      ],
      "metadata": {
        "id": "sRneWag9PV5Q"
      }
    },
    {
      "cell_type": "code",
      "source": [
        "#Solicita ao usuário a entrada:\n",
        "nome = str(input('Digite seu nome: '))\n",
        "print(f'Olá, {nome}')# Imprime o valor digitado pelo usuário"
      ],
      "metadata": {
        "id": "dbX1fKqy2HnE",
        "colab": {
          "base_uri": "https://localhost:8080/"
        },
        "outputId": "709cd3b2-76b3-4939-8de4-033e1e6a475d"
      },
      "execution_count": null,
      "outputs": [
        {
          "output_type": "stream",
          "name": "stdout",
          "text": [
            "Digite seu nome: João\n",
            "Olá, João\n"
          ]
        }
      ]
    },
    {
      "cell_type": "markdown",
      "source": [
        "#### Questão 2\n",
        "Crie um programa que solicite à pessoa usuária digitar seu nome e idade, e imprima “Olá, [nome], você tem [idade] anos.”."
      ],
      "metadata": {
        "id": "BJ1SznEp70d5"
      }
    },
    {
      "cell_type": "code",
      "source": [
        "name = str(input('Digite seu nome: '))\n",
        "age = int(input('Qual é a sua idade?'))\n",
        "print(f'Olá, {name}, você tem {age} anos!')"
      ],
      "metadata": {
        "id": "jKz-0Sq8PFkp",
        "colab": {
          "base_uri": "https://localhost:8080/"
        },
        "outputId": "b15ca3f5-5bb4-4737-ee86-9a9d4c038176"
      },
      "execution_count": null,
      "outputs": [
        {
          "output_type": "stream",
          "name": "stdout",
          "text": [
            "Digite seu nome: Julia\n",
            "Qual é a sua idade?20\n",
            "Olá, Julia, você tem 20 anos!\n"
          ]
        }
      ]
    },
    {
      "cell_type": "markdown",
      "source": [
        "#### Questão 3\n",
        "Crie um programa que solicite à pessoa usuária digitar seu nome, idade e altura em metros, e imprima “Olá, [nome], você tem [idade] anos e mede [altura] metros!”."
      ],
      "metadata": {
        "id": "2T0jNYZt70aa"
      }
    },
    {
      "cell_type": "code",
      "source": [
        "#Importa o método replace\n",
        "from os import replace\n",
        "name = str(input('Digite seu nome: '))#Coleta nome\n",
        "age = int(input('Qual é a sua idade?'))#Coleta idade\n",
        "height = (input('Qual é a sua altura?')).replace(',', '.')#Coleta altura e converte , por . caso o usuário digite\n",
        "print(f'Olá, {name}, você tem {age} anos e {height} de altura!')#Imprime os dados."
      ],
      "metadata": {
        "id": "pI4kHNzTPIXh",
        "colab": {
          "base_uri": "https://localhost:8080/"
        },
        "outputId": "521bbc06-3821-4d89-98b5-523a08a71cef"
      },
      "execution_count": null,
      "outputs": [
        {
          "output_type": "stream",
          "name": "stdout",
          "text": [
            "Digite seu nome: fef\n",
            "Qual é a sua idade?13\n",
            "Qual é a sua altura?1,56\n",
            "Olá, fef, você tem 13 anos e 1.56 de altura!\n"
          ]
        }
      ]
    },
    {
      "cell_type": "markdown",
      "source": [
        "### Calculadora com operadores"
      ],
      "metadata": {
        "id": "mEBFwKkC70KP"
      }
    },
    {
      "cell_type": "markdown",
      "source": [
        "#### Questão 1\n",
        "\n",
        "Crie um programa que solicite dois valores numéricos à pessoa usuária e imprima a soma dos dois valores."
      ],
      "metadata": {
        "id": "H-IV1oAPPSqK"
      }
    },
    {
      "cell_type": "code",
      "source": [
        "#Coleta os valores e atribui às variáveis:\n",
        "v1 = float(input('Digite um número: '))\n",
        "v2 = float(input('Digite outro número: '))\n",
        "soma = v1 + v2#Soma as duas variáveis\n",
        "print(f'A soma de {v1} e {v2} é: {soma}')#Imprime o resultado"
      ],
      "metadata": {
        "id": "Zb0W84sy8rnp",
        "colab": {
          "base_uri": "https://localhost:8080/"
        },
        "outputId": "f91ebef0-f12f-41f6-da42-e1c390f21b9f"
      },
      "execution_count": null,
      "outputs": [
        {
          "output_type": "stream",
          "name": "stdout",
          "text": [
            "Digite um número: 23\n",
            "Digite outro número: 56\n",
            "A soma de 23.0 e 56.0 é: 79.0\n"
          ]
        }
      ]
    },
    {
      "cell_type": "markdown",
      "source": [
        "#### Questão 2\n",
        "Crie um programa que solicite três valores numéricos à pessoa usuária e imprima a soma dos três valores."
      ],
      "metadata": {
        "id": "LUoi2MOu70Em"
      }
    },
    {
      "cell_type": "code",
      "source": [
        "#Solicita os números ao usuário e atribui às variáveis:\n",
        "v1 = int(input('Digite o primeiro número: '))\n",
        "v2 = int(input('Digite o segundo número: '))\n",
        "v3 = int(input('Agora, digite terceiro número: '))\n",
        "\n",
        "soma = v1 + v2 + v3 #Realiza a soma das variáveis\n",
        "print(f'A soma de {v1} , {v2} e {v3} é: {soma}')#Imprime os resultados"
      ],
      "metadata": {
        "id": "4FYjWyBS8rDm",
        "colab": {
          "base_uri": "https://localhost:8080/"
        },
        "outputId": "842fc9eb-ac6a-482a-fedc-3eda0b410010"
      },
      "execution_count": null,
      "outputs": [
        {
          "output_type": "stream",
          "name": "stdout",
          "text": [
            "Digite o primeiro número: 10\n",
            "Digite o segundo número: 5\n",
            "Agora, digite terceiro número: 6\n",
            "A soma de 10 , 5 e 6 é: 21\n"
          ]
        }
      ]
    },
    {
      "cell_type": "markdown",
      "source": [
        "#### Questão 3\n",
        "Crie um programa que solicite dois valores numéricos à pessoa usuária e imprima a subtração do primeiro pelo o segundo valor."
      ],
      "metadata": {
        "id": "lezGctF07z8i"
      }
    },
    {
      "cell_type": "code",
      "source": [
        "#Solicita os números ao usuário e atribui às variáveis:\n",
        "v1 = int(input('Digite o primeiro número: '))\n",
        "v2 = int(input('Digite o segundo número: '))\n",
        "sub = v1 - v2 #Realiza o cálculo\n",
        "print(f'A subtração de {v1} e {v2} é: {sub}')#Imprime o resultado\n"
      ],
      "metadata": {
        "id": "k0GE1z4w8p3J",
        "colab": {
          "base_uri": "https://localhost:8080/"
        },
        "outputId": "2f81221d-fd33-409a-f791-7dfab8d213f9"
      },
      "execution_count": null,
      "outputs": [
        {
          "output_type": "stream",
          "name": "stdout",
          "text": [
            "Digite o primeiro número: 10\n",
            "Digite o segundo número: 5\n",
            "A subtração de 10 e 5 é 2 é: 5\n"
          ]
        }
      ]
    },
    {
      "cell_type": "markdown",
      "source": [
        "#### Questão 4\n",
        "\n",
        "Crie um programa que solicite dois valores numéricos à pessoa usuária e imprima a multiplicação dos dois valores.\n"
      ],
      "metadata": {
        "id": "wwMP-dPU7zxW"
      }
    },
    {
      "cell_type": "code",
      "source": [
        "n1 = int(input('Digite o primeiro número: '))\n",
        "n2 = int(input('Digite o segundo número: '))\n",
        "mult = n1*n2\n",
        "print(f'A multiplicação de {n1} por {n2} resultará {mult}')\n"
      ],
      "metadata": {
        "id": "GzFCVHfp8peZ",
        "colab": {
          "base_uri": "https://localhost:8080/"
        },
        "outputId": "1791df72-03ef-4b46-e4e2-76f309aafa01"
      },
      "execution_count": null,
      "outputs": [
        {
          "output_type": "stream",
          "name": "stdout",
          "text": [
            "Digite o primeiro número: 56\n",
            "Digite o segundo número: 89\n",
            "A multiplicação de 56 por 89 resultará 4984\n"
          ]
        }
      ]
    },
    {
      "cell_type": "markdown",
      "source": [
        "#### Questão 5\n",
        "\n",
        "Crie um programa que solicite dois valores numéricos, um numerador e um denominador, e realize a divisão entre os dois valores. Deixe claro que o valor do denominador não pode ser `0`.\n"
      ],
      "metadata": {
        "id": "9kxyHxUo7zRD"
      }
    },
    {
      "cell_type": "code",
      "source": [
        "num = int(input('Digite um numerador: '))\n",
        "den = int(input('Digite um denominador (não pode ser 0): '))\n",
        "div = num/den\n",
        "print (f'A divisão de {num} por {den} resultará {div:.2f}')"
      ],
      "metadata": {
        "id": "ytJ8l5KH8ozc",
        "colab": {
          "base_uri": "https://localhost:8080/"
        },
        "outputId": "2c51ba44-5710-471a-cff4-cbee8d4fb72e"
      },
      "execution_count": null,
      "outputs": [
        {
          "output_type": "stream",
          "name": "stdout",
          "text": [
            "Digite um numerador: 20\n",
            "Digite um denominador (não pode ser 0): 36\n",
            "A divisão de 20 por 36 resultará 0.56\n"
          ]
        }
      ]
    },
    {
      "cell_type": "markdown",
      "source": [
        "#### Questão 6\n",
        "\n",
        "Crie um programa que solicite dois valores numéricos, um operador e uma potência, e realize a exponenciação entre esses dois valores.\n"
      ],
      "metadata": {
        "id": "zkUSBTQq8Hxt"
      }
    },
    {
      "cell_type": "code",
      "source": [
        "operador = int(input('Digite um número a ser elevado: '))\n",
        "potencia = int(input('Digite o número que será a potência: '))\n",
        "resultado = operador ** potencia\n",
        "print(f'O resultado de {operador} elevado a {potencia} será de {resultado:.2f}')\n"
      ],
      "metadata": {
        "id": "RPj36jq08oZp",
        "colab": {
          "base_uri": "https://localhost:8080/"
        },
        "outputId": "8519a57a-be36-4fd5-9a5f-50b7813be494"
      },
      "execution_count": null,
      "outputs": [
        {
          "output_type": "stream",
          "name": "stdout",
          "text": [
            "Digite um número a ser elevado: 3\n",
            "Digite o número que será a potência: 3\n",
            "O resultado de 3 elevado a 3 será de 27.00\n"
          ]
        }
      ]
    },
    {
      "cell_type": "markdown",
      "source": [
        "#### Questão 7\n",
        "Crie um programa que solicite dois valores numéricos, um numerador e um denominador e realize a divisão inteira entre os dois valores. Deixe claro que o valor do denominador não pode ser `0`."
      ],
      "metadata": {
        "id": "yiunIusZ8Huj"
      }
    },
    {
      "cell_type": "code",
      "source": [
        "num = int(input('Digite um numerador: '))\n",
        "den = int(input('Digite um denominador (não pode ser 0): '))\n",
        "div = num//den\n",
        "print (f'A divisão inteira de {num} por {den} resultará {div:.2f}')"
      ],
      "metadata": {
        "id": "UHK8xITf8oCg",
        "colab": {
          "base_uri": "https://localhost:8080/"
        },
        "outputId": "57c94087-62d7-4804-fa4f-aa836c55b935"
      },
      "execution_count": null,
      "outputs": [
        {
          "output_type": "stream",
          "name": "stdout",
          "text": [
            "Digite um numerador: 9\n",
            "Digite um denominador (não pode ser 0): 5\n",
            "A divisão inteira de 9 por 5 resultará 1.00\n"
          ]
        }
      ]
    },
    {
      "cell_type": "markdown",
      "source": [
        "#### Questão 8\n",
        "\n",
        "Crie um programa que solicite dois valores numéricos, um numerador e um denominador, e retorne o resto da divisão entre os dois valores. Deixe claro que o valor do denominador não pode ser `0`."
      ],
      "metadata": {
        "id": "z_D_JiLX8Hra"
      }
    },
    {
      "cell_type": "code",
      "source": [
        "num = int(input('Digite um numerador: '))\n",
        "den = int(input('Digite um denominador (não pode ser 0): '))\n",
        "div = num%den\n",
        "print (f'O resto da divisão inteira de {num} por {den} resultará {div:.2f}')"
      ],
      "metadata": {
        "id": "EWGJeukO8nqx",
        "colab": {
          "base_uri": "https://localhost:8080/"
        },
        "outputId": "0976fc60-943b-464d-9637-92be134f6a11"
      },
      "execution_count": null,
      "outputs": [
        {
          "output_type": "stream",
          "name": "stdout",
          "text": [
            "Digite um numerador: 10\n",
            "Digite um denominador (não pode ser 0): 3\n",
            "O resto da divisão inteira de 10 por 3 resultará 1.00\n"
          ]
        }
      ]
    },
    {
      "cell_type": "markdown",
      "source": [
        "#### Questão 9\n",
        "\n",
        "Crie um código que solicita 3 notas de um estudante e imprima a média das notas."
      ],
      "metadata": {
        "id": "RDRajNkU8N8N"
      }
    },
    {
      "cell_type": "code",
      "source": [
        "print('***Bem-vindo a calculadora de médias***')\n",
        "print('***Utilize \".\" e não \",\" para notas quebradas***')\n",
        "aluno = input('Digite o nome do aluno: ')\n",
        "n1 = float(input('Digite a primeira nota: '))\n",
        "n2 = float(input('Digite a segunda nota: '))\n",
        "n3 = float(input('Digite a terceira nota: '))\n",
        "media = (n1+n2+n3)/3\n",
        "print(f'A média do aluno {aluno} é de {media:.2f}')\n"
      ],
      "metadata": {
        "id": "H6F4Ojzt8nSR",
        "colab": {
          "base_uri": "https://localhost:8080/"
        },
        "outputId": "4488b1ac-df45-426c-c223-60c5d350a30c"
      },
      "execution_count": null,
      "outputs": [
        {
          "output_type": "stream",
          "name": "stdout",
          "text": [
            "***Bem-vindo a calculadora de médias***\n",
            "***Utilize \".\" e não \",\" para notas quebradas***\n",
            "Digite o nome do aluno: José\n",
            "Digite a primeira nota: 6\n",
            "Digite a segunda nota: 7\n",
            "Digite a terceira nota: 5\n",
            "A média do aluno: José é de 6.00\n"
          ]
        }
      ]
    },
    {
      "cell_type": "markdown",
      "source": [
        "#### Questão 10\n",
        "\n",
        "Crie um código que calcule e imprima a média ponderada dos números 5, 12, 20 e 15 com pesos respectivamente iguais a 1, 2, 3 e 4."
      ],
      "metadata": {
        "id": "d7fjkne58N21"
      }
    },
    {
      "cell_type": "code",
      "source": [
        "n1 = 5*1\n",
        "n2 = 12*2\n",
        "n3 = 20*3\n",
        "n4 = 15*4\n",
        "ponderada = n1+n2+n3+n4/8\n",
        "print(f'A média ponderada dos números 5, 12, 20 e 15 com pesos respectivamente iguais a 1, 2, 3 e 4 é de {ponderada}')"
      ],
      "metadata": {
        "id": "fwjoHlV48mkv",
        "colab": {
          "base_uri": "https://localhost:8080/"
        },
        "outputId": "f9016d8e-ca23-4b21-9773-9b112c8d628f"
      },
      "execution_count": null,
      "outputs": [
        {
          "output_type": "stream",
          "name": "stdout",
          "text": [
            "A média ponderada dos números 5, 12, 20 e 15 com pesos respectivamente iguais a 1, 2, 3 e 4 é de 96.5\n"
          ]
        }
      ]
    },
    {
      "cell_type": "markdown",
      "source": [
        "### Editando textos"
      ],
      "metadata": {
        "id": "GNmbX1OU8N0V"
      }
    },
    {
      "cell_type": "markdown",
      "source": [
        "#### Questão 1\n",
        "\n",
        "Crie uma variável chamada “`frase`” e atribua a ela uma string de sua escolha. Em seguida, imprima a frase na tela."
      ],
      "metadata": {
        "id": "6wZ85mCsRCV0"
      }
    },
    {
      "cell_type": "code",
      "source": [
        "frase = 'Olá mundo!'\n",
        "print(frase)"
      ],
      "metadata": {
        "id": "eRqr_gh-8mFy",
        "colab": {
          "base_uri": "https://localhost:8080/"
        },
        "outputId": "a9f94d62-5e1b-4fc2-9aff-feca9450f4c0"
      },
      "execution_count": null,
      "outputs": [
        {
          "output_type": "stream",
          "name": "stdout",
          "text": [
            "Olá mundo!\n"
          ]
        }
      ]
    },
    {
      "cell_type": "markdown",
      "source": [
        "#### Questão 2\n",
        "Crie um código que solicite uma frase e depois imprima a frase na tela."
      ],
      "metadata": {
        "id": "Aac17z-18Nwv"
      }
    },
    {
      "cell_type": "code",
      "source": [
        "frase = str(input('Digite a sua frase: '))\n",
        "print(frase)"
      ],
      "metadata": {
        "id": "8zfE2hh98lb0",
        "colab": {
          "base_uri": "https://localhost:8080/"
        },
        "outputId": "4fe1109d-88a4-4239-b881-8cf95ebbc760"
      },
      "execution_count": null,
      "outputs": [
        {
          "output_type": "stream",
          "name": "stdout",
          "text": [
            "Digite a sua frase: Olá, como vai?\n",
            "Olá, como vai?\n"
          ]
        }
      ]
    },
    {
      "cell_type": "markdown",
      "source": [
        "#### Questão 3\n",
        "\n",
        "Crie um código que solicite uma frase à pessoa usuária e imprima a mesma frase digitada mas com todas as letras maiúsculas."
      ],
      "metadata": {
        "id": "DXVzqpN58Ntr"
      }
    },
    {
      "cell_type": "code",
      "source": [
        "frase = str(input('Digite a sua frase: '))\n",
        "print(frase.upper())"
      ],
      "metadata": {
        "id": "d0VzoYP68k-I",
        "colab": {
          "base_uri": "https://localhost:8080/"
        },
        "outputId": "f2b74782-a633-43f0-da6a-7ab5e179569d"
      },
      "execution_count": null,
      "outputs": [
        {
          "output_type": "stream",
          "name": "stdout",
          "text": [
            "Digite a sua frase: dadwdwd\n",
            "DADWDWD\n"
          ]
        }
      ]
    },
    {
      "cell_type": "markdown",
      "source": [
        "#### Questão 4\n",
        "\n",
        "Crie um código que solicite uma frase à pessoa usuária e imprima a mesma frase digitada mas com todas as letras minúsculas."
      ],
      "metadata": {
        "id": "I12VeNPK8Nqb"
      }
    },
    {
      "cell_type": "code",
      "source": [
        "frase = str(input('Digite a sua frase: '))\n",
        "print(frase.lower())"
      ],
      "metadata": {
        "id": "KD8rNy2K8kox",
        "colab": {
          "base_uri": "https://localhost:8080/"
        },
        "outputId": "9a87e623-eb09-4377-bdab-cac3341a40c5"
      },
      "execution_count": null,
      "outputs": [
        {
          "output_type": "stream",
          "name": "stdout",
          "text": [
            "Digite a sua frase: ADUWDHAUD\n",
            "aduwdhaud\n"
          ]
        }
      ]
    },
    {
      "cell_type": "markdown",
      "source": [
        "#### Questão 5\n",
        "\n",
        "Crie uma variável chamada “`frase`” e atribua a ela uma string de sua escolha. Em seguida, imprima a frase sem espaços em branco no início e no fim."
      ],
      "metadata": {
        "id": "cRqngSE48Nog"
      }
    },
    {
      "cell_type": "code",
      "source": [
        "frase = ' Teste para excluir os espaços desta string :)   '\n",
        "print(frase.strip())"
      ],
      "metadata": {
        "id": "aSCpdF-o8kBs",
        "colab": {
          "base_uri": "https://localhost:8080/"
        },
        "outputId": "293c9512-3c0b-40b5-f6f4-9282f7479f4b"
      },
      "execution_count": null,
      "outputs": [
        {
          "output_type": "stream",
          "name": "stdout",
          "text": [
            "Teste para excluir os espaços desta string :)\n"
          ]
        }
      ]
    },
    {
      "cell_type": "markdown",
      "source": [
        "#### Questão 6\n",
        "\n",
        "Crie um código que solicite uma frase à pessoa usuária e imprima a mesma frase sem espaços em branco no início e no fim."
      ],
      "metadata": {
        "id": "murIazpQ8Nkv"
      }
    },
    {
      "cell_type": "code",
      "source": [
        "frase = input('Digite a sua frase: ')\n",
        "print(frase.strip())"
      ],
      "metadata": {
        "id": "tHunjwuG8jNq",
        "colab": {
          "base_uri": "https://localhost:8080/"
        },
        "outputId": "42491454-d509-4436-dc4c-ea39ff566865"
      },
      "execution_count": null,
      "outputs": [
        {
          "output_type": "stream",
          "name": "stdout",
          "text": [
            "Digite a sua frase:       olá     \n",
            "olá\n"
          ]
        }
      ]
    },
    {
      "cell_type": "markdown",
      "source": [
        "#### Questão 7\n",
        "\n",
        "\n",
        "Crie um código que solicite uma frase à pessoa usuária e imprima a mesma frase sem espaços em branco no início e no fim e em letras minúsculas."
      ],
      "metadata": {
        "id": "eRxc2OeX8Nh2"
      }
    },
    {
      "cell_type": "code",
      "source": [
        "frase = input('Digite a sua frase: ')\n",
        "print(frase.strip().upper())"
      ],
      "metadata": {
        "id": "DYm0_UwS8ih6",
        "colab": {
          "base_uri": "https://localhost:8080/"
        },
        "outputId": "90e39c19-546f-46d7-843f-10118724031f"
      },
      "execution_count": null,
      "outputs": [
        {
          "output_type": "stream",
          "name": "stdout",
          "text": [
            "Digite a sua frase: como vai?\n",
            "COMO VAI?\n"
          ]
        }
      ]
    },
    {
      "cell_type": "markdown",
      "source": [
        "#### Questão 8\n",
        "\n",
        "Crie um código que solicite uma frase à pessoa usuária e imprima a mesma frase com todas as vogais “`e`” trocadas pela letra “`f`”."
      ],
      "metadata": {
        "id": "UKATLavs8NfI"
      }
    },
    {
      "cell_type": "code",
      "source": [
        "frase = input('Digite a sua frase: ')\n",
        "print(frase.replace('e', 'f'))"
      ],
      "metadata": {
        "id": "k64C5G5S8iLO",
        "colab": {
          "base_uri": "https://localhost:8080/"
        },
        "outputId": "86012dab-8c48-4d00-fd99-5a551a95c6f6"
      },
      "execution_count": null,
      "outputs": [
        {
          "output_type": "stream",
          "name": "stdout",
          "text": [
            "Digite a sua frase:     sente-se\n",
            "    sfntf-sf\n"
          ]
        }
      ]
    },
    {
      "cell_type": "markdown",
      "source": [
        "#### Questão 9\n",
        "\n",
        "\n",
        "Crie um código que solicite uma frase à pessoa usuária e imprima a mesma frase com todas as vogais “`a`” trocadas pela caractere  “`@`”."
      ],
      "metadata": {
        "id": "n_1SPchw8NdG"
      }
    },
    {
      "cell_type": "code",
      "source": [
        "frase = input('Digite a sua frase: ')\n",
        "print(frase.replace('a', '@'))"
      ],
      "metadata": {
        "id": "msaDNm_p8h0D",
        "colab": {
          "base_uri": "https://localhost:8080/"
        },
        "outputId": "103587be-e0b0-4da1-b24e-d0de303461b2"
      },
      "execution_count": null,
      "outputs": [
        {
          "output_type": "stream",
          "name": "stdout",
          "text": [
            "Digite a sua frase: Quantos anos você tem?\n",
            "Qu@ntos @nos você tem?\n"
          ]
        }
      ]
    },
    {
      "cell_type": "markdown",
      "source": [
        "#### Questão 10\n",
        "\n",
        "\n",
        "Crie um código que solicite uma frase à pessoa usuária e imprima a mesma frase com todas as consoantes “`s`” trocadas pelo caractere  “`$`”."
      ],
      "metadata": {
        "id": "H3sTTjqI8Naa"
      }
    },
    {
      "cell_type": "code",
      "source": [
        "frase = input('Digite a sua frase: ')\n",
        "print(frase.replace('s', '$'))"
      ],
      "metadata": {
        "id": "RPBIsWT68e-1",
        "colab": {
          "base_uri": "https://localhost:8080/"
        },
        "outputId": "f5af2bdc-32e9-41c6-ace4-a4159be19d7d"
      },
      "execution_count": null,
      "outputs": [
        {
          "output_type": "stream",
          "name": "stdout",
          "text": [
            "Digite a sua frase: Sinta-se a vontade sorrindo\n",
            "Sinta-$e a vontade $orrindo\n"
          ]
        }
      ]
    },
    {
      "cell_type": "markdown",
      "source": [
        "## Aula 3 - Estruturas condicionais"
      ],
      "metadata": {
        "id": "XGePe4GD2I59"
      }
    },
    {
      "cell_type": "markdown",
      "source": [
        "### Aquecendo na programação"
      ],
      "metadata": {
        "id": "Pr9HTW0UHCdD"
      }
    },
    {
      "cell_type": "markdown",
      "source": [
        "#### Questão 1\n",
        "Escreva um programa que peça à pessoa usuária para fornecer dois números e exibir o número maior."
      ],
      "metadata": {
        "id": "xBZHqhVg80Fy"
      }
    },
    {
      "cell_type": "code",
      "source": [
        "number_1 = float(input('Digite um número: '))\n",
        "number_2 = float(input('Digite outro número: '))\n",
        "if number_1 > number_2:\n",
        "  print(f'O {number_1} é maior que o {number_2}')\n",
        "elif number_1 == number_2:\n",
        "  print('São números iguas!')\n",
        "else:\n",
        "  print(f'O {number_2} é maior que o {number_1}')"
      ],
      "metadata": {
        "id": "GJlGnzjc-xyF",
        "colab": {
          "base_uri": "https://localhost:8080/"
        },
        "outputId": "599f5366-2e1a-434e-bfd3-30ca468deaf3"
      },
      "execution_count": null,
      "outputs": [
        {
          "output_type": "stream",
          "name": "stdout",
          "text": [
            "Digite um número: 11\n",
            "Digite outro número: 23\n",
            "O 23.0 é maior que o 11.0\n"
          ]
        }
      ]
    },
    {
      "cell_type": "markdown",
      "source": [
        "#### Questão 2\n",
        "Escreva um programa que solicite o percentual de crescimento de produção de uma empresa e informe se houve um crescimento (porcentagem positiva) ou decrescimento (porcentagem negativa)."
      ],
      "metadata": {
        "id": "H4sgN7dyHNJF"
      }
    },
    {
      "cell_type": "code",
      "source": [
        "variacao = float(input('Digite o percentual de crescimento da produção: '))\n",
        "if variacao > 0:\n",
        "  print(f'O crescimento foi positivo, de {variacao}%!')\n",
        "elif variacao == 0:\n",
        "  print('Não houve crescimento nem decrescimento!')\n",
        "else:\n",
        "  print(f'Houve descrescimento de {variacao}%!')"
      ],
      "metadata": {
        "id": "-2_Ry5XJ-yZW",
        "colab": {
          "base_uri": "https://localhost:8080/"
        },
        "outputId": "b839942d-dcc9-4085-c8be-ee88b557aecb"
      },
      "execution_count": null,
      "outputs": [
        {
          "output_type": "stream",
          "name": "stdout",
          "text": [
            "Digite o percentual de crescimento da produção: -9\n",
            "Houve descrescimento de -9.0%!\n"
          ]
        }
      ]
    },
    {
      "cell_type": "markdown",
      "source": [
        "#### Questão 3\n",
        "Escreva um programa que determine se uma letra fornecida pela pessoa usuária é uma vogal ou consoante."
      ],
      "metadata": {
        "id": "a_mzNOBDHNny"
      }
    },
    {
      "cell_type": "code",
      "source": [
        "#Solicita uma letra ao usuário, transformando-a em maiúscula:\n",
        "letra = input('Digite uma letra: ').upper()\n",
        "vogais = 'AEIOU'\n",
        "\n",
        "#Verifica se a letra é vogal ou consoante: e imprime o resultado:\n",
        "if letra in vogais:\n",
        "  print (f'A letra \"{letra}\" é uma vogal!')\n",
        "else:\n",
        "  print (f'A letra \"{letra}\" é uma consoante!')"
      ],
      "metadata": {
        "id": "NbgndVyg-zFJ",
        "colab": {
          "base_uri": "https://localhost:8080/"
        },
        "outputId": "67eaadf2-4e55-4f38-b9de-49c595b9b7c6"
      },
      "execution_count": null,
      "outputs": [
        {
          "output_type": "stream",
          "name": "stdout",
          "text": [
            "Digite uma letra: a\n",
            "A letra \"A\" é uma vogal!\n"
          ]
        }
      ]
    },
    {
      "cell_type": "markdown",
      "source": [
        "#### Questão 4\n",
        "Escreva um programa que leia valores médios de preços de um modelo de carro por 3 anos consecutivos e exiba o valor mais alto e mais baixo entre esses três anos."
      ],
      "metadata": {
        "id": "mofMRjSZHP99"
      }
    },
    {
      "cell_type": "code",
      "source": [
        "#Solicita ao usuário o preço médio dos últimos 3 anos:\n",
        "price_year1 = float(input('Informe o preco do veículo no primeiro ano: R$ '))\n",
        "price_year2 = float(input('Informe o preco do veículo no segundo ano: R$ '))\n",
        "price_year3 = float(input('Informe o preco do veículo no terceiro ano: R$ '))\n",
        "\n",
        "#Verifica o maior e menor preço dos valores informados pelo usuário:\n",
        "higher_price = price_year1\n",
        "if price_year2 > higher_price:\n",
        "  higher_price = price_year2\n",
        "elif price_year3 > higher_price:\n",
        "  higher_price = price_year3\n",
        "lower_price = price_year1\n",
        "if price_year2 < lower_price:\n",
        "  lower_price = price_year2\n",
        "elif price_year3 < lower_price:\n",
        "  lower_price = price_year3\n",
        "\n",
        "#Imprime o maior e o menor valor informados pelo usuário:\n",
        "print(f'O maior valor foi de R${higher_price} e o menor de R${lower_price} ')\n",
        "\n"
      ],
      "metadata": {
        "id": "TX--d3k9-02c",
        "colab": {
          "base_uri": "https://localhost:8080/"
        },
        "outputId": "8b2d259b-7326-4f72-a187-980d96d30cba"
      },
      "execution_count": null,
      "outputs": [
        {
          "output_type": "stream",
          "name": "stdout",
          "text": [
            "Informe o preco do veículo no primeiro ano: R$ 10000\n",
            "Informe o preco do veículo no segundo ano: R$ 30000\n",
            "Informe o preco do veículo no terceiro ano: R$ 250000\n",
            "O maior valor foi de R$30000.0 e o menor de R$10000.0 \n"
          ]
        }
      ]
    },
    {
      "cell_type": "markdown",
      "source": [
        "#### Questão 5\n",
        "Escreva um programa que pergunte sobre o preço de três produtos e indique qual é o produto mais barato para comprar."
      ],
      "metadata": {
        "id": "jY5tIwd-HQzc"
      }
    },
    {
      "cell_type": "code",
      "source": [
        "#Solicita ao usuário o preço dos 3 produtos:\n",
        "product_1 = float(input(f'Digite o valor do produto 1: R$ '))\n",
        "product_2 = float(input(f'Digite o valor do produto 2: R$ '))\n",
        "product_3 = float(input(f'Digite o valor do produto 3: R$ '))\n",
        "\n",
        "#Verifica o menor preço entre os produtos informados:\n",
        "lower_price = product_1\n",
        "if product_2 < lower_price:\n",
        "  lower_price = product_2\n",
        "elif product_3 < lower_price:\n",
        "  lower_price = product_3\n",
        "elif product_1 == product_2 == product_3:\n",
        "  print('Todos os preços são idênticos!')\n",
        "\n",
        "#Imprime o menor valor dentre eles:\n",
        "print(f'O menor preço é R${lower_price}')\n"
      ],
      "metadata": {
        "id": "sYqNh9df-0gk",
        "colab": {
          "base_uri": "https://localhost:8080/"
        },
        "outputId": "517c81a2-7a7f-4648-a30e-24e4524244f9"
      },
      "execution_count": null,
      "outputs": [
        {
          "output_type": "stream",
          "name": "stdout",
          "text": [
            "Digite o valor do produto 1: R$ 5\n",
            "Digite o valor do produto 2: R$ 5\n",
            "Digite o valor do produto 3: R$ 5\n",
            "Todos os preços são idênticos!\n",
            "O menor preço é R$5.0\n"
          ]
        }
      ]
    },
    {
      "cell_type": "markdown",
      "source": [
        "#### Questão 6\n",
        "Escreva um programa que leia três números e os exiba em ordem decrescente."
      ],
      "metadata": {
        "id": "1r6aVxtTHR4E"
      }
    },
    {
      "cell_type": "code",
      "source": [
        "#Solicita 3 números ao usuário:\n",
        "number_1 = float(input('Digite o primero número: '))\n",
        "number_2 = float(input('Digite o segundo número: '))\n",
        "number_3 = float(input('Digite o terceiro número: '))\n",
        "\n",
        "#Verifica a ordem dos números informados e imprime a sequência em ordem decrescente:\n",
        "if (number_1 >= number_2) and (number_1 >=number_3):\n",
        "  print(number_1)\n",
        "  if number_2 >=number_3:\n",
        "    print(number_2)\n",
        "    print(number_3)\n",
        "  else:\n",
        "    print(number_3)\n",
        "    print(number_2)\n",
        "elif (number_2 >= number_1) and (number_2 >= number_3):\n",
        "  print(number_2)\n",
        "  if number_1 >= number_3:\n",
        "    print(number_1)\n",
        "    print(number_3)\n",
        "  else:\n",
        "    print(number_3)\n",
        "    print(number_1)\n",
        "else:\n",
        "  print (number_3)\n",
        "  if number_1 >= number_2:\n",
        "    print (number_1)\n",
        "    print (number_2)\n",
        "  else:\n",
        "    print(number_2)\n",
        "    print(number_1)\n"
      ],
      "metadata": {
        "id": "ydOCYUMO-0Hk",
        "colab": {
          "base_uri": "https://localhost:8080/"
        },
        "outputId": "dae4fee3-41e0-4539-d338-a7ebe813ec3a"
      },
      "execution_count": null,
      "outputs": [
        {
          "output_type": "stream",
          "name": "stdout",
          "text": [
            "Digite o primero número: 10\n",
            "Digite o segundo número: 3\n",
            "Digite o terceiro número: 23\n",
            "23.0\n",
            "10.0\n",
            "3.0\n"
          ]
        }
      ]
    },
    {
      "cell_type": "markdown",
      "source": [
        "#### Questão 7\n",
        "Escreva um programa que pergunte em qual turno a pessoa usuária estuda (\"manhã\", \"tarde\" ou \"noite\") e exiba a mensagem \"Bom Dia!\", \"Boa Tarde!\", \"Boa Noite!\", ou \"Valor Inválido!\", conforme o caso."
      ],
      "metadata": {
        "id": "inW3F-hAHS_X"
      }
    },
    {
      "cell_type": "code",
      "source": [
        "#Pergunta ao usuário qual é o seu turno de estudo:\n",
        "turno = input('Informe o turno em que você estuda: Manhã, tarde ou noite?').lower()\n",
        "\n",
        "#Verifica o turno e imprime a resposta correspondente:\n",
        "if turno == 'manhã':\n",
        "  print('Bom dia!')\n",
        "elif turno == 'tarde':\n",
        "  print('Boa tarde!')\n",
        "elif turno == 'noite':\n",
        "  print('Boa noite!')\n",
        "else:\n",
        "  print('Resposta inválida.')\n"
      ],
      "metadata": {
        "id": "-_q-Pcr_-zth",
        "colab": {
          "base_uri": "https://localhost:8080/"
        },
        "outputId": "72baa878-bec4-4af0-9f99-e00b86efb947"
      },
      "execution_count": null,
      "outputs": [
        {
          "output_type": "stream",
          "name": "stdout",
          "text": [
            "Informe o turno em que você estuda: Manhã, tarde ou noite?TARDE\n",
            "Boa tarde!\n"
          ]
        }
      ]
    },
    {
      "cell_type": "markdown",
      "source": [
        "#### Questão 8\n",
        "Escreva um programa que peça um número inteiro à pessoa usuária e determine se ele é par ou ímpar. Dica: Você pode utilizar o operador módulo `%`."
      ],
      "metadata": {
        "id": "NCCPF3QqHTw-"
      }
    },
    {
      "cell_type": "code",
      "source": [
        "\"\"\"\n",
        "Solicita um número ao usuário e verifica o resto da divisão, imprimindo se o\n",
        " valor digitado é par ou ímpar.\n",
        "\"\"\"\n",
        "print(' *** VERIFICADOR: PAR / ÍMPAR *** ')\n",
        "number = int(input('Digite um número inteiro: '))\n",
        "if number%2 == 0:\n",
        "  print(f'O número {number} é par!')\n",
        "else:\n",
        "  print(f'O número {number} é ímpar!')"
      ],
      "metadata": {
        "id": "OmZJt1nQ-3e6",
        "colab": {
          "base_uri": "https://localhost:8080/"
        },
        "outputId": "b2e02388-882a-4808-88ef-3fc83d70a0ac"
      },
      "execution_count": null,
      "outputs": [
        {
          "output_type": "stream",
          "name": "stdout",
          "text": [
            " *** VERIFICADOR: PAR / ÍMPAR *** \n",
            "Digite um número inteiro: 23\n",
            "O número 23 é ímpar!\n"
          ]
        }
      ]
    },
    {
      "cell_type": "markdown",
      "source": [
        "#### Questão 9\n",
        "Escreva um programa que peça um número à pessoa usuária e informe se ele é inteiro ou decimal."
      ],
      "metadata": {
        "id": "h93Ck1tQHUwE"
      }
    },
    {
      "cell_type": "code",
      "source": [
        "#Solicita um número ao usuário:\n",
        "num = float(input('Digite um número: '))\n",
        "\n",
        "# Verifica o resto da divisão para determinar se é inteiro ou decimal:\n",
        "if num % 1 == 0:\n",
        "    print('O número é inteiro.')\n",
        "else:\n",
        "    print('O número é decimal.')"
      ],
      "metadata": {
        "id": "sLMlZcx8-20N",
        "colab": {
          "base_uri": "https://localhost:8080/"
        },
        "outputId": "0934abc9-3b95-426b-92d3-a42527c588fb"
      },
      "execution_count": null,
      "outputs": [
        {
          "name": "stdout",
          "output_type": "stream",
          "text": [
            "Digite um número: 10\n"
          ]
        }
      ]
    },
    {
      "cell_type": "markdown",
      "source": [
        "### Momento dos projetos"
      ],
      "metadata": {
        "id": "bKdXSK1SH_pF"
      }
    },
    {
      "cell_type": "markdown",
      "source": [
        "#### Questão 10\n",
        "Um programa deve ser escrito para ler dois números e, em seguida, perguntar à pessoa usuária qual operação ele deseja realizar. O resultado da operação deve incluir informações sobre o número - se é par ou ímpar, positivo ou negativo e inteiro ou decimal."
      ],
      "metadata": {
        "id": "WBlEyyzsHV86"
      }
    },
    {
      "cell_type": "code",
      "source": [
        "#Solicita as entradas ao usuário: números e qual a operação desejada:\n",
        "number_1 = float(input('Digite o primeiro número: '))\n",
        "number_2 = float(input('Digite o segundo número: '))\n",
        "operation = input('Qual operação vai realizar? Digite: \"+\", \"-\", \"*\", ou \"/\"')\n",
        "\n",
        "#Verifica a operação escolhida e realiza seu cálculo e o imprime:\n",
        "if operation == \"+\":\n",
        "  result = number_1 + number_2\n",
        "elif operation == \"-\":\n",
        "  result = number_1 - number_2\n",
        "elif operation == \"*\":\n",
        "  result = number_1 * number_2\n",
        "elif operation == \"/\":\n",
        "  result = number_1 / number_2\n",
        "else:\n",
        "  resultado = 0\n",
        "  print ('Operação inválida, o resultado será 0.')\n",
        "print(f'O resultado da operação solicitada será: {result}')\n",
        "\n",
        "#Faz as verificações: par ou ímpar; positivo ou negativo; inteiro ou decimal:\n",
        "if result % 2 == 0:\n",
        "  print(f'{result} é par!')\n",
        "else:\n",
        "  print(f'{result} é ímpar!')\n",
        "if result >= 0:\n",
        "  print(f'{result} é positivo!')\n",
        "else:\n",
        "  print(f'{result} é negativo!')\n",
        "if result % 1 == 0:\n",
        "  print(f'{result} é um número inteiro')\n",
        "else:\n",
        "  print(f'{result} é um número decimal')\n",
        "\n",
        "\n"
      ],
      "metadata": {
        "id": "3jmahZ0f-2gq",
        "colab": {
          "base_uri": "https://localhost:8080/"
        },
        "outputId": "65e65363-5e40-4d0f-fe91-14e9ad667d6e"
      },
      "execution_count": null,
      "outputs": [
        {
          "output_type": "stream",
          "name": "stdout",
          "text": [
            "Digite o primeiro número: 15\n",
            "Digite o segundo número: 98\n",
            "Qual operação vai realizar? Digite: \"+\", \"-\", \"*\", ou \"/\"/\n",
            "O resultado da operação solicitada será: 0.15306122448979592\n",
            "0.15306122448979592 é ímpar!\n",
            "0.15306122448979592 é positivo!\n",
            "0.15306122448979592 é um número decimal\n"
          ]
        }
      ]
    },
    {
      "cell_type": "markdown",
      "source": [
        "#### Questão 11\n",
        "Escreva um programa que peça à pessoa usuária três números que representam os lados de um triângulo. O programa deve informar se os valores podem ser utilizados para formar um triângulo e, caso afirmativo, se ele é equilátero, isósceles ou escaleno. Tenha em mente algumas dicas:\n",
        "- Três lados formam um triângulo quando a soma de quaisquer dois lados for maior que o terceiro;\n",
        "- Triângulo Equilátero: três lados iguais;\n",
        "- Triângulo Isósceles: quaisquer dois lados iguais;\n",
        "- Triângulo Escaleno: três lados diferentes;\n"
      ],
      "metadata": {
        "id": "VdnlULxHHW19"
      }
    },
    {
      "cell_type": "code",
      "source": [
        "# Coletamos os lados de um triângulo\n",
        "print('Coletaremos os lados de um triângulo.')\n",
        "lado1 = float(input('Digite o comprimento do primeiro lado: '))\n",
        "lado2 = float(input('Digite o comprimento do segundo lado: '))\n",
        "lado3 = float(input('Digite o comprimento do terceiro lado: '))\n",
        "\n",
        "# Verificamos de os lados formam um triângulo\n",
        "if (lado1 + lado2 > lado3) and (lado2 + lado3 > lado1) and (lado1 + lado3 > lado2):\n",
        "    print('Os valores podem formar um triângulo!')\n",
        "\n",
        "# comparamos os lados para verificar o tipo de triângulo\n",
        "    if (lado1 == lado2) and (lado2 == lado3):\n",
        "        print('O triângulo é equilátero.')\n",
        "    elif (lado1 != lado2) and (lado2 != lado3) and (lado1 != lado3):\n",
        "        print('O triângulo é escaleno.')\n",
        "    else:\n",
        "        print('O triângulo é isósceles.')\n",
        "else:\n",
        "    print('Os valores não podem formar um triângulo!')"
      ],
      "metadata": {
        "id": "0z73sqUO-2Pw",
        "colab": {
          "base_uri": "https://localhost:8080/"
        },
        "outputId": "b3672b39-c33a-4b8f-de71-27872ee9ece7"
      },
      "execution_count": null,
      "outputs": [
        {
          "output_type": "stream",
          "name": "stdout",
          "text": [
            "Coletaremos os lados de um triângulo.\n",
            "Digite o comprimento do primeiro lado: 6\n",
            "Digite o comprimento do segundo lado: 6\n",
            "Digite o comprimento do terceiro lado: 5\n",
            "Os valores podem formar um triângulo!\n",
            "O triângulo é isósceles.\n"
          ]
        }
      ]
    },
    {
      "cell_type": "markdown",
      "source": [
        "#### Questão 12\n",
        "Um estabelecimento está vendendo combustíveis com descontos variados. Para o etanol, se a quantidade comprada for até 15 litros, o desconto será de 2% por litro. Caso contrário, será de 4% por litro. Para o diesel, se a quantidade comprada for até 15 litros, o desconto será de 3% por litro. Caso contrário, será de 5% por litro. O preço do litro de diesel é R\\$ 2,00 e o preço do litro de etanol é R\\$ 1,70. Escreva um programa que leia a quantidade de litros vendidos e o tipo de combustível (E para etanol e D para diesel) e calcule o valor a ser pago pelo cliente. Tenha em mente algumas dicas:\n",
        "\n",
        "- O do valor do desconto será a multiplicação entre preço do litro, quantidade de litros e o valor do desconto.\n",
        "- O valor a ser pago por um cliente será o resultado da multiplicação do preço do litro pela quantidade de litros menos o valor de desconto resultante do cálculo.\n"
      ],
      "metadata": {
        "id": "_PpEpOugHXwZ"
      }
    },
    {
      "cell_type": "code",
      "source": [
        "#Solicita as entradas do usuário e declara as variáveis:\n",
        "quantidade = float(input('Quantidade de litros: '))\n",
        "tipo = str(input('Qual é o tipo de combustível? Diesel (D) | Etanol (E)')).upper()\n",
        "preço_diesel = 2.00\n",
        "preço_etanol = 1.70\n",
        "desconto = 0\n",
        "valor = 0\n",
        "\n",
        "#Calcula o desconto com base no tipo e quantidade de combustível:\n",
        "if quantidade <= 15 and tipo == 'E':\n",
        "  desconto = (preço_etanol * quantidade)* 0.02\n",
        "elif quantidade >= 15 and tipo == 'E':\n",
        "  desconto = (preço_etanol * quantidade)* 0.04\n",
        "elif quantidade <= 15 and tipo == 'D':\n",
        "  desconto = (preço_diesel * quantidade)* 0.03\n",
        "elif quantidade >= 15 and tipo == 'D':\n",
        "  desconto = (preço_diesel * quantidade)* 0.05\n",
        "\n",
        "#Calcula o valor com base no tipo e quantidade de combustível:\n",
        "if tipo  == 'E':\n",
        "  valor = quantidade * preço_etanol\n",
        "elif tipo == 'D':\n",
        "  valor = quantidade * preço_diesel\n",
        "\n",
        "#Define o resultado com base no valor - desconto e retorna ao usuário:\n",
        "resultado = valor - desconto\n",
        "print(f'No total, você abasteceu {quantidade} litros, com R${desconto:.2f} de desconto')\n",
        "print(f'Totalizando o valor de R${resultado}')\n",
        "\n",
        "\n"
      ],
      "metadata": {
        "id": "9izoF-0O-1yD",
        "colab": {
          "base_uri": "https://localhost:8080/"
        },
        "outputId": "0c749880-0954-46d0-9239-ebf84023e1b7"
      },
      "execution_count": null,
      "outputs": [
        {
          "output_type": "stream",
          "name": "stdout",
          "text": [
            "Quantidade de litros: 120\n",
            "Qual é o tipo de combustível? Diesel (D) | Etanol (E)d\n",
            "No total, você abasteceu 120.0 litros, com R$12.00 de desconto\n",
            "Totalizando o valor de R$ 228.0\n"
          ]
        }
      ]
    },
    {
      "cell_type": "markdown",
      "source": [
        "#### Questão 13\n",
        "Em uma empresa de venda de imóveis você precisa criar um código que analise os dados de vendas anuais para ajudar a diretoria na tomada de decisão. O código precisa coletar os dados de quantidade de venda durante os anos de 2022 e 2023 e fazer um cálculo de variação percentual. A partir do valor da variação, deve ser enviada às seguintes sugestões:\n",
        "- Para variação acima de 20%: bonificação para o time de vendas.\n",
        "- Para variação entre 2% e 20%: pequena bonificação para time de vendas.\n",
        "- Para variação entre 2% e -10%: planejamento de políticas de incentivo às vendas.\n",
        "- Para bonificações abaixo de -10%: corte de gastos.\n"
      ],
      "metadata": {
        "id": "s_XS_D1WHY2R"
      }
    },
    {
      "cell_type": "code",
      "source": [
        "#Coleta as entradas do usuário e define as variáveis:\n",
        "vendas_2022 = float(input('Quantidade de vendas de 2022: '))\n",
        "vendas_2023 = float(input('Quantidade de vendas de 2023: '))\n",
        "var_percentual = 100 * (vendas_2023 - vendas_2022) / (vendas_2022)\n",
        "\n",
        "#Calcula a variação percentual e retorna o resultado ao usuário:\n",
        "if var_percentual > 20:\n",
        "  print(f'Variação de {var_percentual:.2f}%: bonificação para o time de vendas!')\n",
        "elif 2 <= var_percentual <= 20:\n",
        "  print(f'Variação de {var_percentual:.2f}%: pequena bonificação para o time de vendas!')\n",
        "elif -10 <= var_percentual <= 2:\n",
        "  print(f'Variação de {var_percentual:.2f}%:  planejamento de políticas de incentivo às vendas!')\n",
        "else:\n",
        "  print(f'Variação de {var_percentual:.2f}%:  Corte de gastos!')\n",
        "\n",
        "\n"
      ],
      "metadata": {
        "id": "avQrYlUg-w8f",
        "colab": {
          "base_uri": "https://localhost:8080/"
        },
        "outputId": "28e41478-22c8-4ff1-c683-39aad9f9e171"
      },
      "execution_count": null,
      "outputs": [
        {
          "output_type": "stream",
          "name": "stdout",
          "text": [
            "Quantidade de vendas de 2022: 100\n",
            "Quantidade de vendas de 2023: 59595\n",
            "Variação de 59495.00%: bonificação para o time de vendas!\n"
          ]
        }
      ]
    },
    {
      "cell_type": "markdown",
      "source": [
        "## Aula 4 - Estruturas de repetição"
      ],
      "metadata": {
        "id": "AuaWh4-d2Itt"
      }
    },
    {
      "cell_type": "markdown",
      "source": [
        "### Aquecendo na programação"
      ],
      "metadata": {
        "id": "6MSqU0sIJRdD"
      }
    },
    {
      "cell_type": "markdown",
      "source": [
        "#### Questão 1\n",
        "Escreva um programa que peça dois números inteiros e imprima todos os números inteiros entre eles."
      ],
      "metadata": {
        "id": "9eGGyCnAJRdQ"
      }
    },
    {
      "cell_type": "code",
      "source": [
        "#Solicita as entradas ao usuário:\n",
        "inicio = int(input('Digite o número para início:'))\n",
        "fim = int(input('Digite o número para finalizar:'))\n",
        "\n",
        "#Verifica o maior entre início e fim e imprime os números inteiros entre eles:\n",
        "if inicio < fim:\n",
        "  for indice in range(inicio + 1, fim):\n",
        "    print(indice)\n",
        "elif fim > inicio:\n",
        "  for indice in range(fim + 1, inicio):\n",
        "    print(indice)\n",
        "else:\n",
        "  print('Os números digitados são idênticos.')\n"
      ],
      "metadata": {
        "id": "ID1oc1hxJRdQ",
        "colab": {
          "base_uri": "https://localhost:8080/"
        },
        "outputId": "34195552-96e8-4688-fa5d-46145599e32f"
      },
      "execution_count": null,
      "outputs": [
        {
          "output_type": "stream",
          "name": "stdout",
          "text": [
            "Digite o número para início:5\n",
            "Digite o número para finalizar:23\n",
            "6\n",
            "7\n",
            "8\n",
            "9\n",
            "10\n",
            "11\n",
            "12\n",
            "13\n",
            "14\n",
            "15\n",
            "16\n",
            "17\n",
            "18\n",
            "19\n",
            "20\n",
            "21\n",
            "22\n"
          ]
        }
      ]
    },
    {
      "cell_type": "markdown",
      "source": [
        "#### Questão 2\n",
        "Escreva um programa para calcular quantos dias levará para a colônia de uma bactéria A ultrapassar ou igualar a colônia de uma bactéria B, com base nas taxas de crescimento de 3% e 1,5% respectivamente. Considere que a colônia A inicia com 4 elementos e a colônia B com 10 elementos."
      ],
      "metadata": {
        "id": "mGonEHYCJRdR"
      }
    },
    {
      "cell_type": "code",
      "source": [
        "#Guarda as variáveis da quantidade, taxas e dias:\n",
        "bacteria_a = 4\n",
        "bacteria_b = 10\n",
        "\n",
        "taxa_a = 0.03\n",
        "taxa_b = 0.015\n",
        "\n",
        "dias = 0\n",
        "\n",
        "#Faz o cálculo multiplicando com base na taxa de cada um e imprime o resultado:\n",
        "while bacteria_a < bacteria_b:\n",
        "  bacteria_a *= 1 + taxa_a\n",
        "  bacteria_b *= 1 + taxa_b\n",
        "  dias += 1\n",
        "print(f'A colônia da bactéria A irá levar {dias} dias para ultrapassar a colônia da bactéria B')\n",
        "print(f'Quando a colônia A terá {bacteria_a:.2f} elementos e a colônia B {bacteria_b:.2f}.')\n",
        "\n",
        "\n"
      ],
      "metadata": {
        "id": "wM6FJuoqJRdR",
        "colab": {
          "base_uri": "https://localhost:8080/"
        },
        "outputId": "1bd3e60e-9554-4a55-a5b9-64d6041e8942"
      },
      "execution_count": null,
      "outputs": [
        {
          "output_type": "stream",
          "name": "stdout",
          "text": [
            "A colônia da bactéria A irá levar 63 dias para ultrapassar a colônia da bactéria B\n",
            "Quando a colônia A terá 25.75 elementos e a colônia B 25.55.\n"
          ]
        }
      ]
    },
    {
      "cell_type": "markdown",
      "source": [
        "#### Questão 3\n",
        "Para tratar uma quantidade de 15 dados de avaliações de pessoas usuárias de um serviço da empresa, precisamos verificar se as notas são válidas. Então, escreva um programa que vai receber a nota de 0 a 5 de todos os dados e verificar se é um valor válido. Caso seja inserido uma nota acima de 5 ou abaixo de 0, repita até que a pessoa usuária insira um valor válido."
      ],
      "metadata": {
        "id": "UiOZRlqoJRdR"
      }
    },
    {
      "cell_type": "code",
      "source": [
        "#Inicia um laço para a variável \"i\" no range 1, 16 (para coletar do usuário 1 a 15:\n",
        "for i in range(1, 16):\n",
        "  nota = float(input(f'Digite a nota da pessoa usuária {i}: '))\n",
        "\n",
        "#Verifica se a nota atende ao requisito 1 a 5, se não, pede uma nota válida:\n",
        "  if nota < 0 or nota > 5:\n",
        "    nota = float(input(f'Nota inválida, digite uma nota de 0 a 5! Usuário {i}: '))\n",
        "\n",
        "#Continua no laço até o fim do range:\n",
        "    continue\n",
        "print(f'Fim da veriricação, todas as notas estão entre 0 e 5!')\n"
      ],
      "metadata": {
        "id": "3TUAhCxcJRdR",
        "colab": {
          "base_uri": "https://localhost:8080/"
        },
        "outputId": "213d4ea5-8320-48a3-e65c-f010b6cfbdff"
      },
      "execution_count": null,
      "outputs": [
        {
          "output_type": "stream",
          "name": "stdout",
          "text": [
            "Digite a nota da pessoa usuária 1: 5\n",
            "Digite a nota da pessoa usuária 2: 3\n",
            "Digite a nota da pessoa usuária 3: 3\n",
            "Digite a nota da pessoa usuária 4: 3\n",
            "Digite a nota da pessoa usuária 5: 3\n",
            "Digite a nota da pessoa usuária 6: 10\n",
            "Nota inválida, digite uma nota de 0 a 5! Usuário 6: 3\n",
            "Digite a nota da pessoa usuária 7: 3\n",
            "Digite a nota da pessoa usuária 8: 3\n",
            "Digite a nota da pessoa usuária 9: 3\n",
            "Digite a nota da pessoa usuária 10: 3\n",
            "Digite a nota da pessoa usuária 11: 3\n",
            "Digite a nota da pessoa usuária 12: 3\n",
            "Digite a nota da pessoa usuária 13: 3\n",
            "Digite a nota da pessoa usuária 14: 3\n",
            "Digite a nota da pessoa usuária 15: 3\n",
            "Fim da veriricação, todas as notas estão entre 0 e 5!\n"
          ]
        }
      ]
    },
    {
      "cell_type": "markdown",
      "source": [
        "#### Questão 4\n",
        "Desenvolva um programa que leia um conjunto indeterminado de temperaturas em Celsius e faça uma análise. Portanto, escreva um programa que leia temperaturas e informe a média delas. A leitura deve ser encerrada ao ser enviado o valor -273°C."
      ],
      "metadata": {
        "id": "ABv3KObGJRdR"
      }
    },
    {
      "cell_type": "code",
      "source": [
        "temperatura = float(input('Digite a temperatura em Celsius: '))\n",
        "contadora = 0\n",
        "soma = 0\n",
        "\n",
        "while temperatura != -273:\n",
        "  soma += temperatura\n",
        "  contadora += 1\n",
        "  temperatura = float(input('Insira a temperatura em Celsius: '))\n",
        "\n",
        "media = soma / contadora\n",
        "print(f'A média das temperaturas é: {media}')"
      ],
      "metadata": {
        "id": "85tBBj5KJRdS",
        "colab": {
          "base_uri": "https://localhost:8080/",
          "height": 529
        },
        "outputId": "4e9525ee-eed0-4ae7-a80d-d4778af3aadb"
      },
      "execution_count": null,
      "outputs": [
        {
          "name": "stdout",
          "output_type": "stream",
          "text": [
            "Digite a temperatura em Celsius: 20\n",
            "Insira a temperatura em Celsius: 23\n",
            "Insira a temperatura em Celsius: 25\n",
            "Insira a temperatura em Celsius: 23\n",
            "Insira a temperatura em Celsius: 23\n",
            "Insira a temperatura em Celsius: 23\n",
            "Insira a temperatura em Celsius: -5895858\n",
            "Insira a temperatura em Celsius: -595959\n"
          ]
        },
        {
          "output_type": "error",
          "ename": "KeyboardInterrupt",
          "evalue": "ignored",
          "traceback": [
            "\u001b[0;31m---------------------------------------------------------------------------\u001b[0m",
            "\u001b[0;31mKeyboardInterrupt\u001b[0m                         Traceback (most recent call last)",
            "\u001b[0;32m<ipython-input-5-9a4501938c7f>\u001b[0m in \u001b[0;36m<cell line: 5>\u001b[0;34m()\u001b[0m\n\u001b[1;32m      6\u001b[0m   \u001b[0msoma\u001b[0m \u001b[0;34m+=\u001b[0m \u001b[0mtemperatura\u001b[0m\u001b[0;34m\u001b[0m\u001b[0;34m\u001b[0m\u001b[0m\n\u001b[1;32m      7\u001b[0m   \u001b[0mcontadora\u001b[0m \u001b[0;34m+=\u001b[0m \u001b[0;36m1\u001b[0m\u001b[0;34m\u001b[0m\u001b[0;34m\u001b[0m\u001b[0m\n\u001b[0;32m----> 8\u001b[0;31m   \u001b[0mtemperatura\u001b[0m \u001b[0;34m=\u001b[0m \u001b[0mfloat\u001b[0m\u001b[0;34m(\u001b[0m\u001b[0minput\u001b[0m\u001b[0;34m(\u001b[0m\u001b[0;34m'Insira a temperatura em Celsius: '\u001b[0m\u001b[0;34m)\u001b[0m\u001b[0;34m)\u001b[0m\u001b[0;34m\u001b[0m\u001b[0;34m\u001b[0m\u001b[0m\n\u001b[0m\u001b[1;32m      9\u001b[0m \u001b[0;34m\u001b[0m\u001b[0m\n\u001b[1;32m     10\u001b[0m \u001b[0mmedia\u001b[0m \u001b[0;34m=\u001b[0m \u001b[0msoma\u001b[0m \u001b[0;34m/\u001b[0m \u001b[0mcontadora\u001b[0m\u001b[0;34m\u001b[0m\u001b[0;34m\u001b[0m\u001b[0m\n",
            "\u001b[0;32m/usr/local/lib/python3.10/dist-packages/ipykernel/kernelbase.py\u001b[0m in \u001b[0;36mraw_input\u001b[0;34m(self, prompt)\u001b[0m\n\u001b[1;32m    849\u001b[0m                 \u001b[0;34m\"raw_input was called, but this frontend does not support input requests.\"\u001b[0m\u001b[0;34m\u001b[0m\u001b[0;34m\u001b[0m\u001b[0m\n\u001b[1;32m    850\u001b[0m             )\n\u001b[0;32m--> 851\u001b[0;31m         return self._input_request(str(prompt),\n\u001b[0m\u001b[1;32m    852\u001b[0m             \u001b[0mself\u001b[0m\u001b[0;34m.\u001b[0m\u001b[0m_parent_ident\u001b[0m\u001b[0;34m,\u001b[0m\u001b[0;34m\u001b[0m\u001b[0;34m\u001b[0m\u001b[0m\n\u001b[1;32m    853\u001b[0m             \u001b[0mself\u001b[0m\u001b[0;34m.\u001b[0m\u001b[0m_parent_header\u001b[0m\u001b[0;34m,\u001b[0m\u001b[0;34m\u001b[0m\u001b[0;34m\u001b[0m\u001b[0m\n",
            "\u001b[0;32m/usr/local/lib/python3.10/dist-packages/ipykernel/kernelbase.py\u001b[0m in \u001b[0;36m_input_request\u001b[0;34m(self, prompt, ident, parent, password)\u001b[0m\n\u001b[1;32m    893\u001b[0m             \u001b[0;32mexcept\u001b[0m \u001b[0mKeyboardInterrupt\u001b[0m\u001b[0;34m:\u001b[0m\u001b[0;34m\u001b[0m\u001b[0;34m\u001b[0m\u001b[0m\n\u001b[1;32m    894\u001b[0m                 \u001b[0;31m# re-raise KeyboardInterrupt, to truncate traceback\u001b[0m\u001b[0;34m\u001b[0m\u001b[0;34m\u001b[0m\u001b[0m\n\u001b[0;32m--> 895\u001b[0;31m                 \u001b[0;32mraise\u001b[0m \u001b[0mKeyboardInterrupt\u001b[0m\u001b[0;34m(\u001b[0m\u001b[0;34m\"Interrupted by user\"\u001b[0m\u001b[0;34m)\u001b[0m \u001b[0;32mfrom\u001b[0m \u001b[0;32mNone\u001b[0m\u001b[0;34m\u001b[0m\u001b[0;34m\u001b[0m\u001b[0m\n\u001b[0m\u001b[1;32m    896\u001b[0m             \u001b[0;32mexcept\u001b[0m \u001b[0mException\u001b[0m \u001b[0;32mas\u001b[0m \u001b[0me\u001b[0m\u001b[0;34m:\u001b[0m\u001b[0;34m\u001b[0m\u001b[0;34m\u001b[0m\u001b[0m\n\u001b[1;32m    897\u001b[0m                 \u001b[0mself\u001b[0m\u001b[0;34m.\u001b[0m\u001b[0mlog\u001b[0m\u001b[0;34m.\u001b[0m\u001b[0mwarning\u001b[0m\u001b[0;34m(\u001b[0m\u001b[0;34m\"Invalid Message:\"\u001b[0m\u001b[0;34m,\u001b[0m \u001b[0mexc_info\u001b[0m\u001b[0;34m=\u001b[0m\u001b[0;32mTrue\u001b[0m\u001b[0;34m)\u001b[0m\u001b[0;34m\u001b[0m\u001b[0;34m\u001b[0m\u001b[0m\n",
            "\u001b[0;31mKeyboardInterrupt\u001b[0m: Interrupted by user"
          ]
        }
      ]
    },
    {
      "cell_type": "markdown",
      "source": [
        "#### Questão 5\n",
        "Escreva um programa que calcule o fatorial de um número inteiro fornecido pela pessoa usuária. O fatorial de um número inteiro é a multiplicação desse número por todos os seus antecessores até o número 1. Por exemplo, o fatorial de 5 é 5 x 4 x 3 x 2 x 1 = 120."
      ],
      "metadata": {
        "id": "IjkbAfGcJRdS"
      }
    },
    {
      "cell_type": "code",
      "source": [
        "numero = int (input ('Digite um número: '))\n",
        "fatorial = 1\n",
        "\n",
        "for contador in range(1, numero + 1):\n",
        "    fatorial *= contador\n",
        "\n",
        "print(f'O fatorial de {numero} é {fatorial:.2f}')"
      ],
      "metadata": {
        "id": "7RTH8o0HJRdS",
        "colab": {
          "base_uri": "https://localhost:8080/"
        },
        "outputId": "38c98c98-fb26-49d7-e159-f1437a0d88d5"
      },
      "execution_count": null,
      "outputs": [
        {
          "output_type": "stream",
          "name": "stdout",
          "text": [
            "Digite um número: 10\n",
            "O fatorial de 10 é 3628800.00\n"
          ]
        }
      ]
    },
    {
      "cell_type": "markdown",
      "source": [
        "### Momento dos projetos"
      ],
      "metadata": {
        "id": "oGNKuQjsJRdT"
      }
    },
    {
      "cell_type": "markdown",
      "source": [
        "#### Questão 6\n",
        "Escreva um programa que gere a tabuada de um número inteiro de 1 a 10, de acordo com a escolha da pessoa usuária. Como exemplo, para o número 2, a tabuada deve ser mostrada no seguinte formato:\n",
        "```\n",
        "Tabuada do 2:\n",
        "2 x 1 = 2\n",
        "2 x 2 = 4\n",
        "[...]\n",
        "2 x 10 = 20\n",
        "```"
      ],
      "metadata": {
        "id": "ODxaTUYmJRdS"
      }
    },
    {
      "cell_type": "code",
      "source": [
        "num = int(input('Insira um número para a taboada: '))\n",
        "\n",
        "print(f'Taboada do número {num}')\n",
        "for i in range (1,11):\n",
        "  resultado = num * i\n",
        "  print(f' {num} x {i} = {resultado}')\n"
      ],
      "metadata": {
        "id": "lkTlbxPIJRdS",
        "colab": {
          "base_uri": "https://localhost:8080/"
        },
        "outputId": "6dd2dd4d-f98c-421b-f266-4dd84c2bf996"
      },
      "execution_count": null,
      "outputs": [
        {
          "output_type": "stream",
          "name": "stdout",
          "text": [
            "Insira um número para a taboada: 10\n",
            "Taboada do número 10\n",
            " 10 x 1 = 10\n",
            " 10 x 2 = 20\n",
            " 10 x 3 = 30\n",
            " 10 x 4 = 40\n",
            " 10 x 5 = 50\n",
            " 10 x 6 = 60\n",
            " 10 x 7 = 70\n",
            " 10 x 8 = 80\n",
            " 10 x 9 = 90\n",
            " 10 x 10 = 100\n"
          ]
        }
      ]
    },
    {
      "cell_type": "markdown",
      "source": [
        "#### Questão 7\n",
        "Os números primos possuem várias aplicações dentro da Ciência de Dados, por exemplo, na criptografia e segurança. Um número primo é aquele que é divisível apenas por um e por ele mesmo. Faça um programa que peça um número inteiro e determine se ele é ou não um número primo."
      ],
      "metadata": {
        "id": "LeIbnt8VJRdS"
      }
    },
    {
      "cell_type": "code",
      "source": [
        "num = int(input('Insira um número para saber se é primo ou não: '))\n",
        "if num > 1:\n",
        "  for i in range (2, num):\n",
        "    if  (num % i) == 0:\n",
        "      print(f'O número {num} não é primo')\n",
        "      break\n",
        "    else:\n",
        "      print(f'O número {num} é primo.')\n",
        "else:\n",
        "  print(f'O número {num} não é primo.')"
      ],
      "metadata": {
        "id": "2rcNU7twJRdS",
        "colab": {
          "base_uri": "https://localhost:8080/"
        },
        "outputId": "c458c9c7-e492-4252-b068-d0893e17cfce"
      },
      "execution_count": null,
      "outputs": [
        {
          "output_type": "stream",
          "name": "stdout",
          "text": [
            "Insira um número para saber se é primo ou não: 10\n",
            "O número 10 não é primo\n"
          ]
        }
      ]
    },
    {
      "cell_type": "markdown",
      "source": [
        "#### Questão 8\n",
        "Vamos entender a distribuição de idades de pensionistas de uma empresa de previdência. Escreva um programa que leia as idades de uma quantidade não informada de clientes e mostre a distribuição em intervalos de [0-25], [26-50], [51-75] e [76-100]. Encerre a entrada de dados com um número negativo."
      ],
      "metadata": {
        "id": "QTwb6QaCJRdT"
      }
    },
    {
      "cell_type": "code",
      "source": [
        "#Solicita ao usuário a idade:\n",
        "age = int(input('Digite a idade ou um número negativo para encerrar: '))\n",
        "\n",
        "#Variáveis armazenam de acordo com a faixa etária:\n",
        "contador_0_25 = 0\n",
        "contador_26_50 = 0\n",
        "contador_51_75 = 0\n",
        "contador_76_100 = 0\n",
        "\n",
        "#Laço armazena os inputs de acordo com as idades:\n",
        "while age > 0:\n",
        "  if age >=0 and age <=25:\n",
        "    contador_0_25 += 1\n",
        "  elif age >=26 and age <=50:\n",
        "    contador_26_50 += 1\n",
        "  elif age >=51 and age <=75:\n",
        "    contador_51_75 += 1\n",
        "  elif age >=76 and age <=100:\n",
        "    contador_76_100 += 1\n",
        "\n",
        "#Laço continua solicitando a entrada até que o usuário digite um número negativo para encerrar:\n",
        "  age = int(input('Digite a idade ou um número negativo para encerrar: '))\n",
        "\n",
        "#Imprime o resultado da distribuição de idades por faixa etária:\n",
        "print('Distribuição de idades:')\n",
        "print('[0-25]:', contador_0_25)\n",
        "print('[26-50]:', contador_26_50)\n",
        "print('[51-75]:', contador_51_75)\n",
        "print('[76-100]:', contador_76_100)\n",
        "\n",
        "\n",
        "\n"
      ],
      "metadata": {
        "id": "4IAhaDmYJRdT",
        "colab": {
          "base_uri": "https://localhost:8080/"
        },
        "outputId": "a8f1d53b-af11-4248-d814-70ad12f8f868"
      },
      "execution_count": null,
      "outputs": [
        {
          "output_type": "stream",
          "name": "stdout",
          "text": [
            "Digite a idade ou um número negativo para encerrar: 56\n",
            "Digite a idade ou um número negativo para encerrar: 31\n",
            "Digite a idade ou um número negativo para encerrar: 25\n",
            "Digite a idade ou um número negativo para encerrar: 20\n",
            "Digite a idade ou um número negativo para encerrar: 15\n",
            "Digite a idade ou um número negativo para encerrar: 17\n",
            "Digite a idade ou um número negativo para encerrar: 75\n",
            "Digite a idade ou um número negativo para encerrar: 66\n",
            "Digite a idade ou um número negativo para encerrar: 89\n",
            "Digite a idade ou um número negativo para encerrar: 52\n",
            "Digite a idade ou um número negativo para encerrar: 44\n",
            "Digite a idade ou um número negativo para encerrar: -6\n",
            "Distribuição de idades:\n",
            "[0-25]: 4\n",
            "[26-50]: 2\n",
            "[51-75]: 4\n",
            "[76-100]: 1\n"
          ]
        }
      ]
    },
    {
      "cell_type": "markdown",
      "source": [
        "#### Questão 9\n",
        "Em uma eleição para gerência em uma empresa com 20 funcionários, existem quatro candidatos. Escreva um programa que calcule o vencedor da eleição. A votação ocorreu da seguinte maneira:\n",
        "- Cada funcionário votou em um dos quatro candidatos (representados pelos números 1, 2, 3 e 4).\n",
        "- Também foram contabilizados os votos nulos (representado pelo número 5) e os votos em branco (representado pelo número 6).\n",
        "\n",
        "Ao final da votação, o programa deve exibir o total de votos para cada candidato, o número de votos nulos e o número de votos em branco. Além disso, deve calcular e exibir a porcentagem de votos nulos em relação ao total de votos e a porcentagem de votos em branco em relação ao total de votos."
      ],
      "metadata": {
        "id": "soJCQVwRJRdT"
      }
    },
    {
      "cell_type": "code",
      "source": [
        "#Declara as variavéis para armazenar os votos:\n",
        "votos_candidato1 = 0\n",
        "votos_candidato2 = 0\n",
        "votos_candidato3 = 0\n",
        "votos_candidato4 = 0\n",
        "votos_nulos = 0\n",
        "votos_branco = 0\n",
        "\n",
        "#Cria um laço para receber os votos e armazená-los:\n",
        "for i in range(0,20):\n",
        "    voto = int(input('Informe seu voto: '))\n",
        "    if voto == 1:\n",
        "        votos_candidato1 += 1\n",
        "    elif voto == 2:\n",
        "        votos_candidato2 += 1\n",
        "    elif voto == 3:\n",
        "        votos_candidato3 += 1\n",
        "    elif voto == 4:\n",
        "        votos_candidato4 += 1\n",
        "    elif voto == 5:\n",
        "        votos_nulos += 1\n",
        "    elif voto == 6:\n",
        "        votos_branco += 1\n",
        "    else:\n",
        "        print(\"Voto inválido.\")\n",
        "\n",
        "#Imprime o resultado:\n",
        "print(f'Votos candidato 1: {votos_candidato1}')\n",
        "print(f'Votos candidato 2: {votos_candidato2}')\n",
        "print(f'Votos candidato 3: {votos_candidato3}')\n",
        "print(f'Votos candidato 4: {votos_candidato4}')\n",
        "print(f'Votos nulos: {votos_nulos}')\n",
        "print(f'Votos em branco: {votos_branco}')\n",
        "print(f'Percentual de votos nulos: {(votos_nulos / 20 * 100)}%')\n",
        "print(f'Percentual de votos em branco: {(votos_branco / 20 * 100)}%')"
      ],
      "metadata": {
        "id": "041EFrgG-4gR",
        "colab": {
          "base_uri": "https://localhost:8080/"
        },
        "outputId": "b5073cc1-ad4f-454b-9833-3728d1e51d40"
      },
      "execution_count": null,
      "outputs": [
        {
          "output_type": "stream",
          "name": "stdout",
          "text": [
            "Informe seu voto: 1\n",
            "Informe seu voto: 2\n",
            "Informe seu voto: 3\n",
            "Informe seu voto: 2\n",
            "Informe seu voto: 5\n",
            "Informe seu voto: 3\n",
            "Informe seu voto: 6\n",
            "Informe seu voto: 6\n",
            "Informe seu voto: 5\n",
            "Informe seu voto: 1\n",
            "Informe seu voto: 2\n",
            "Informe seu voto: 1\n",
            "Informe seu voto: 3\n",
            "Informe seu voto: 4\n",
            "Informe seu voto: 5\n",
            "Informe seu voto: 6\n",
            "Informe seu voto: 4\n",
            "Informe seu voto: 2\n",
            "Informe seu voto: 3\n",
            "Informe seu voto: 1\n",
            "Votos candidato 1: 4\n",
            "Votos candidato 2: 4\n",
            "Votos candidato 3: 4\n",
            "Votos candidato 4: 2\n",
            "Votos nulos: 3\n",
            "Votos em branco: 3\n",
            "Percentual de votos nulos: 15.0\n",
            "Percentual de votos em branco: 15.0\n"
          ]
        }
      ]
    },
    {
      "cell_type": "markdown",
      "source": [
        "## Aula 5 - Estruturas de dados"
      ],
      "metadata": {
        "id": "eijHQiNU2IZ7"
      }
    },
    {
      "cell_type": "markdown",
      "source": [],
      "metadata": {
        "id": "EBj9QKUE4Mp9"
      }
    },
    {
      "cell_type": "markdown",
      "source": [
        "### Aquecendo na programação"
      ],
      "metadata": {
        "id": "92F0bKtBMgd7"
      }
    },
    {
      "cell_type": "markdown",
      "source": [
        "#### Questão 1\n",
        "Faça um programa que tenha a seguinte lista contendo os valores de gastos de uma empresa de papel `[2172.54, 3701.35, 3518.09, 3456.61, 3249.38, 2840.82, 3891.45, 3075.26, 2317.64, 3219.08]`. Com esses valores, faça um programa que calcule a média de gastos. Dica, use as funções built-in [`sum()`](https://docs.python.org/3/library/functions.html#sum) e [`len()`](https://docs.python.org/3/library/functions.html#len)."
      ],
      "metadata": {
        "id": "IypX2ANuMgeC"
      }
    },
    {
      "cell_type": "code",
      "source": [
        "gastos = [2172.54, 3701.35, 3518.09, 3456.61, 3249.38, 2840.82, 3891.45, 3075.26, 2317.64, 3219.08]\n",
        "soma = sum(gastos)\n",
        "quantidade = len(gastos)\n",
        "mediagastos = soma/quantidade\n",
        "print(f'A média de gastos foi de {mediagastos:.2f} reais')\n",
        "\n"
      ],
      "metadata": {
        "id": "ge3LuFhLMgeD",
        "colab": {
          "base_uri": "https://localhost:8080/"
        },
        "outputId": "eedc1ba3-0d41-4d17-fcf3-e5f1ad54ba1f"
      },
      "execution_count": null,
      "outputs": [
        {
          "output_type": "stream",
          "name": "stdout",
          "text": [
            "A média de gastos foi de 3144.22 reais\n"
          ]
        }
      ]
    },
    {
      "cell_type": "markdown",
      "source": [
        "#### Questão 2\n",
        " Com os mesmos dados da questão anterior, defina quantas compras foram acima de 3000 reais e calcule a porcentagem quanto ao total de compras."
      ],
      "metadata": {
        "id": "xrOeLhQkMgeD"
      }
    },
    {
      "cell_type": "code",
      "source": [
        "gastos = [2172.54, 3701.35, 3518.09, 3456.61, 3249.38, 2840.82, 3891.45, 3075.26, 2317.64, 3219.08]\n",
        "\n",
        "up3000 = 0\n",
        "\n",
        "for contador in gastos:\n",
        "  if contador > 3000:\n",
        "    up3000 += 1\n",
        "\n",
        "porcetagem_up3000 = 100* (up3000) / len(gastos)\n",
        "\n",
        "print(f'{up3000} compras foram acima de R$3000,00.')\n",
        "print(f'{porcetagem_up3000}% dos gastos foram acima de R$3000,00.')\n"
      ],
      "metadata": {
        "id": "Ygu5TMZyMgeD",
        "colab": {
          "base_uri": "https://localhost:8080/"
        },
        "outputId": "fdd59cb5-f3e3-44b8-bcd7-42a98aac7f5a"
      },
      "execution_count": null,
      "outputs": [
        {
          "output_type": "stream",
          "name": "stdout",
          "text": [
            "7 compras foram acima de R$3000,00.\n",
            "70.0% dos gastos foram acima de R$3000,00.\n"
          ]
        }
      ]
    },
    {
      "cell_type": "markdown",
      "source": [
        "#### Questão 3\n",
        "Faça um código que colete em uma lista 5 números inteiros quaisquer e imprima a lista. Exemplo: `[1,4,7,2,4]`."
      ],
      "metadata": {
        "id": "JgCOrE_BMgeD"
      }
    },
    {
      "cell_type": "code",
      "source": [
        "#Variável recebe uma lista vazia:\n",
        "lista_numeros = []\n",
        "#Laço com range 0 a 5 para coletar 5 números e insere ao final da lista com o método append:\n",
        "for i in range (0, 5):\n",
        "  numero = int(input('Digite um número inteiro:'))\n",
        "  lista_numeros.append(numero)\n",
        "#Imprime a lista:\n",
        "print(f'Lista de números inseridos: {lista_numeros}')"
      ],
      "metadata": {
        "id": "vtM9O1hLMgeD",
        "colab": {
          "base_uri": "https://localhost:8080/"
        },
        "outputId": "6530cee4-41a4-477c-b614-b4b228a7f3c2"
      },
      "execution_count": null,
      "outputs": [
        {
          "output_type": "stream",
          "name": "stdout",
          "text": [
            "Digite um número inteiro:6\n",
            "Digite um número inteiro:5\n",
            "Digite um número inteiro:3\n",
            "Digite um número inteiro:4\n",
            "Digite um número inteiro:9\n",
            "Lista de números inseridos: [6, 5, 3, 4, 9]\n"
          ]
        }
      ]
    },
    {
      "cell_type": "markdown",
      "source": [
        "#### Questão 4\n",
        "Colete novamente 5 inteiros e imprima a lista em ordem inversa à enviada."
      ],
      "metadata": {
        "id": "p3bTp88HMgeD"
      }
    },
    {
      "cell_type": "code",
      "source": [
        "#Variável recebe uma lista vazia:\n",
        "lista_numeros = []\n",
        "\n",
        "#Laço com range 0 a 5 para coletar 5 números e insere ao final da lista com o método append:\n",
        "for i in range (0, 5):\n",
        "  numero = int(input('Digite um número inteiro:'))\n",
        "  lista_numeros.append(numero)\n",
        "\n",
        "#O método reverse() irá inverter a ordem digitada pelo usuário:\n",
        "lista_numeros.reverse()\n",
        "\n",
        "#Imprime o resultado:\n",
        "print(f'Lista de números inseridos: {lista_numeros}')"
      ],
      "metadata": {
        "id": "-CGwMIyHMgeD",
        "colab": {
          "base_uri": "https://localhost:8080/"
        },
        "outputId": "49ac8804-2035-44b0-9974-d6ff84087a09"
      },
      "execution_count": null,
      "outputs": [
        {
          "output_type": "stream",
          "name": "stdout",
          "text": [
            "Digite um número inteiro:52\n",
            "Digite um número inteiro:8\n",
            "Digite um número inteiro:36\n",
            "Digite um número inteiro:21\n",
            "Digite um número inteiro:5\n",
            "Lista de números inseridos: [5, 21, 36, 8, 52]\n"
          ]
        }
      ]
    },
    {
      "cell_type": "markdown",
      "source": [
        "#### Questão 5\n",
        "Faça um programa que, ao inserir um número qualquer, criará uma lista contendo todos os números primos entre 1 e o número digitado."
      ],
      "metadata": {
        "id": "eIXd_z1lMgeD"
      }
    },
    {
      "cell_type": "code",
      "source": [
        "\n",
        "numero = int(input('Digite um número inteiro: '))\n",
        "lista_primos = []\n",
        "\n",
        "for num in range(2, numero):\n",
        "  primo = True\n",
        "  for divisiveis in range (2, num):\n",
        "    if num % divisiveis == 0:\n",
        "      primo = False\n",
        "      break\n",
        "  if primo:\n",
        "    lista_primos.append(num)\n",
        "print(f'Lista de números primos: {lista_primos}')\n",
        "\n",
        "\n",
        "\n",
        "\n"
      ],
      "metadata": {
        "id": "rj_6GHstMgeE",
        "colab": {
          "base_uri": "https://localhost:8080/"
        },
        "outputId": "d6de1fbd-27b2-42ca-ccad-77eafd49ce0f"
      },
      "execution_count": null,
      "outputs": [
        {
          "output_type": "stream",
          "name": "stdout",
          "text": [
            "Digite um número inteiro: 60\n",
            "Lista de números primos: [2, 3, 5, 7, 11, 13, 17, 19, 23, 29, 31, 37, 41, 43, 47, 53, 59]\n"
          ]
        }
      ]
    },
    {
      "cell_type": "markdown",
      "source": [
        "#### Questão 6\n",
        "Escreva um programa que peça uma data informando o dia, mês e ano e determine se ela é uma data válida para uma análise."
      ],
      "metadata": {
        "id": "zrbz3ENlMgeE"
      }
    },
    {
      "cell_type": "code",
      "source": [
        "dia = int(input('Digite o dia: '))\n",
        "mes = int(input('Digite o mês: '))\n",
        "ano = int(input('Digite o ano: '))\n",
        "\n",
        "if mes == 2:\n",
        "  # Verificamos se é ou não um ano bissexto\n",
        "  if ano % 4 == 0 and (ano % 400 == 0 or ano % 100 != 0):\n",
        "    dias_fevereiro = 29\n",
        "  else:\n",
        "    dias_fevereiro = 28\n",
        "  # Verificamos se o dia colocado corresponde ao máximo de dias de fevereiro\n",
        "  if dia >= 1 and dia <= dias_fevereiro:\n",
        "    print('Data válida')\n",
        "  else:\n",
        "    print('Data inválida')\n",
        "# Verificamos meses terminados em 31 dias\n",
        "elif mes in [1, 3, 5, 7, 8, 10, 12]:\n",
        "  if dia >= 1 and dia <= 31:\n",
        "    print('Data válida')\n",
        "  else:\n",
        "    print('Data inválida')\n",
        "# Verificamos meses terminados em 30 dias\n",
        "elif mes in [4, 6, 9, 11]:\n",
        "  if dia >= 1 and dia <= 30:\n",
        "    print('Data válida')\n",
        "  else:\n",
        "    print('Data inválida')\n",
        "# Caso o mês não esteja entre 1 e 12\n",
        "else:\n",
        "  print('Data inválida')"
      ],
      "metadata": {
        "id": "0eYA8UjTMgeE",
        "colab": {
          "base_uri": "https://localhost:8080/"
        },
        "outputId": "1285171f-cb9a-48f0-c4e4-99410ee6c4e6"
      },
      "execution_count": null,
      "outputs": [
        {
          "output_type": "stream",
          "name": "stdout",
          "text": [
            "Digite o dia: 23\n",
            "Digite o mês: 6\n",
            "Digite o ano: 2013\n",
            "Data válida\n"
          ]
        }
      ]
    },
    {
      "cell_type": "markdown",
      "source": [
        "### Momento dos projetos"
      ],
      "metadata": {
        "id": "ut_4VHdGMgeE"
      }
    },
    {
      "cell_type": "markdown",
      "source": [
        "#### Questão 7\n",
        "Para um estudo envolvendo o nível de multiplicação de bactérias em uma colônia, foi coletado o número de bactérias multiplicadas por dia, com base em um processo de duplicação diária e pode ser observado a seguir: `[1.2, 2.1, 3.3, 5.0, 7.8, 11.3, 16.6, 25.1, 37.8, 56.9]`. Tendo esses valores, faça um código que gere uma lista contendo o percentual de crescimento de bactérias por dia, comparando o número de bactérias em cada dia com o número de bactérias do dia anterior. Dica: para calcular o percentual de crescimento usamos a seguinte equação: `100 * (amostra_atual - amostra_passada) / (amostra_passada)`."
      ],
      "metadata": {
        "id": "G86Z0vD_MgeE"
      }
    },
    {
      "cell_type": "code",
      "source": [
        "#Variável armazena a lista da colônia de bactérias:\n",
        "colonia_bacterias = [1.2, 2.1, 3.3, 5.0, 7.8, 11.3, 16.6, 25.1, 37.8, 56.9]\n",
        "\n",
        "#Lista vazia contendo o percentual de crescimento:\n",
        "percentual_crescimento = []\n",
        "\n",
        "#laço para iterar sobre a variável \"colonia_bacterias' e calcular a porcentagem:\"\n",
        "for i in range(1, len(colonia_bacterias)):\n",
        "  porcentagem = 100 * (colonia_bacterias[i] - colonia_bacterias[i - 1]) / (colonia_bacterias[i - 1])\n",
        "  percentual_crescimento.append(porcentagem)\n",
        "\n",
        "#Saída dos resultados com laço para formatar cada item da lista:\n",
        "print('Porcentagens de crescimento:')\n",
        "for valor in percentual_crescimento:\n",
        "    print(f'{valor:.2f}%')"
      ],
      "metadata": {
        "id": "PXNO_CFkMgeE",
        "colab": {
          "base_uri": "https://localhost:8080/"
        },
        "outputId": "877c0064-14fd-4854-8f28-92f8c0caee5f"
      },
      "execution_count": null,
      "outputs": [
        {
          "output_type": "stream",
          "name": "stdout",
          "text": [
            "Porcentagens de crescimento:\n",
            "75.00%\n",
            "57.14%\n",
            "51.52%\n",
            "56.00%\n",
            "44.87%\n",
            "46.90%\n",
            "51.20%\n",
            "50.60%\n",
            "50.53%\n"
          ]
        }
      ]
    },
    {
      "cell_type": "markdown",
      "source": [
        "#### Questão 8\n",
        "Para uma seleção de produtos alimentícios, precisamos separar o conjunto de IDs dados por números inteiros, sabendo que os produtos com ID par são doces e os com ID ímpar são amargos. Monte um código que colete 10 IDs. Depois, calcule e mostre a quantidade de produtos doces e amargos."
      ],
      "metadata": {
        "id": "p4nxogpnMgeE"
      }
    },
    {
      "cell_type": "code",
      "source": [
        "id_doce = []\n",
        "id_amargo = []\n",
        "\n",
        "for id in range (0, 10):\n",
        "  id_produto = int(input('Digite o ID do produto: '))\n",
        "  if id_produto % 2 == 0:\n",
        "    id_doce.append(id_produto)\n",
        "  else:\n",
        "    id_amargo.append(id_produto)\n",
        "\n",
        "soma_doce = len(id_doce)\n",
        "soma_amargo = len(id_amargo)\n",
        "\n",
        "\n",
        "print(f'Dentre os IDs informados {id_doce} são doces e {id_amargo} são amargos.')\n",
        "print(f'E somando temos {soma_doce} produtos doces e {soma_amargo} amargos!')\n",
        "\n"
      ],
      "metadata": {
        "id": "WqjO2SZkMgeE",
        "colab": {
          "base_uri": "https://localhost:8080/"
        },
        "outputId": "a215d356-c2d8-4b59-d9bd-d7682f28ee11"
      },
      "execution_count": null,
      "outputs": [
        {
          "output_type": "stream",
          "name": "stdout",
          "text": [
            "Digite o ID do produto: 1\n",
            "Digite o ID do produto: 13\n",
            "Digite o ID do produto: 2\n",
            "Digite o ID do produto: 14\n",
            "Digite o ID do produto: 5\n",
            "Digite o ID do produto: 6\n",
            "Digite o ID do produto: 9\n",
            "Digite o ID do produto: 17\n",
            "Digite o ID do produto: 11\n",
            "Dentre os IDs informados [2, 14, 6] são doces e [1, 13, 5, 9, 17, 11] são amargos.\n",
            "E somando temos 3 produtos doces e 6 amargos!\n"
          ]
        }
      ]
    },
    {
      "cell_type": "markdown",
      "source": [
        "#### Questão 9\n",
        "Desenvolva um programa que informa a nota de um aluno de acordo com suas respostas. Ele deve pedir a resposta de um aluno para cada questão e é preciso verificar se a resposta foi igual ao gabarito. Cada questão vale um ponto e existem alternativas:  A, B, C ou D.\n",
        "```\n",
        "Gabarito da Prova:\n",
        "01 - D\n",
        "02 - A\n",
        "03 - C\n",
        "04 - B\n",
        "05 - A\n",
        "06 - D\n",
        "07 - C\n",
        "08 - C\n",
        "09 - A\n",
        "10 - B\n",
        "```"
      ],
      "metadata": {
        "id": "t5OrLxV6MgeE"
      }
    },
    {
      "cell_type": "code",
      "source": [
        "respostas = []\n",
        "gabarito = ['D', 'A', 'C', 'B', 'A', 'D', 'C', 'C', 'A', 'B']\n",
        "nota = 0\n",
        "\n",
        "for i in range(0, 10):\n",
        "  respostas.append(input(f'Insira a resposta da questão {i+1}: ').upper())\n",
        "\n",
        "for i in range(0,10):\n",
        "  if respostas[i] == gabarito[i]:\n",
        "    nota += 1\n",
        "print(f'Nota final {nota}')"
      ],
      "metadata": {
        "id": "ytIQDJrQMgeE",
        "colab": {
          "base_uri": "https://localhost:8080/"
        },
        "outputId": "7813a27b-350c-4d0a-c89b-736a69ba19c0"
      },
      "execution_count": null,
      "outputs": [
        {
          "output_type": "stream",
          "name": "stdout",
          "text": [
            "Insira a resposta da questão 1: a\n",
            "Insira a resposta da questão 2: a\n",
            "Insira a resposta da questão 3: c\n",
            "Insira a resposta da questão 4: b\n",
            "Insira a resposta da questão 5: a\n",
            "Insira a resposta da questão 6: a\n",
            "Insira a resposta da questão 7: a\n",
            "Insira a resposta da questão 8: a\n",
            "Insira a resposta da questão 9: a\n",
            "Insira a resposta da questão 10: a\n",
            "Nota final 5\n"
          ]
        }
      ]
    },
    {
      "cell_type": "markdown",
      "source": [
        "#### Questão 10\n",
        "Um instituto de meteorologia deseja fazer um estudo de temperatura média de cada mês do ano. Para isso, você precisa fazer um código que colete e armazene essas temperaturas médias em uma lista. Depois, calcule a média anual das temperaturas e mostre todas as temperaturas acima da média anual, e em que mês elas ocorreram, mostrando os meses por extenso: Janeiro, Fevereiro, etc."
      ],
      "metadata": {
        "id": "aSBMzh-AMgeF"
      }
    },
    {
      "cell_type": "code",
      "source": [
        "temperaturas_mensais = []\n",
        "for i in range(0, 12):\n",
        "  temperaturas_mensais.append(float(input(f'Digite a média de temperatura do mês {i+1}: ')))\n",
        "meses = ['Janeiro', 'Fevereiro', 'Março', 'Abril', 'Maio', 'Junho', 'Julho', 'Agosto', 'Setembro', 'Outubro', 'Novembro', 'Dezembro']\n",
        "media_anual = sum(temperaturas_mensais) / len(meses)\n",
        "print('Temperaturas acima da média em: ')\n",
        "for i in range(0,12):\n",
        "  # Verificamos todas as temperaturas de acordo com a média anual\n",
        "  if temperaturas_mensais[i] > media_anual:\n",
        "    # Como os índices dos meses correspondem às temperaturas,\n",
        "    # podemos imprimir eles sob o mesmo índice\n",
        "    print(meses[i])"
      ],
      "metadata": {
        "id": "ftj04s2uMgeF",
        "colab": {
          "base_uri": "https://localhost:8080/"
        },
        "outputId": "218dbd76-1fc5-41ee-d8b1-5b06184c2649"
      },
      "execution_count": null,
      "outputs": [
        {
          "output_type": "stream",
          "name": "stdout",
          "text": [
            "Digite a média de temperatura do mês 1: 20\n",
            "Digite a média de temperatura do mês 2: 23\n",
            "Digite a média de temperatura do mês 3: 30\n",
            "Digite a média de temperatura do mês 4: 15\n",
            "Digite a média de temperatura do mês 5: 32\n",
            "Digite a média de temperatura do mês 6: 12\n",
            "Digite a média de temperatura do mês 7: 10\n",
            "Digite a média de temperatura do mês 8: 23\n",
            "Digite a média de temperatura do mês 9: 26\n",
            "Digite a média de temperatura do mês 10: 28\n",
            "Digite a média de temperatura do mês 11: 33\n",
            "Digite a média de temperatura do mês 12: 36\n",
            "Temperaturas acima da média em: \n",
            "Março\n",
            "Maio\n",
            "Setembro\n",
            "Outubro\n",
            "Novembro\n",
            "Dezembro\n"
          ]
        }
      ]
    },
    {
      "cell_type": "markdown",
      "source": [
        "#### Questão 11\n",
        "Uma empresa de e-commerce está interessada em analisar as vendas dos seus produtos. Os dados das vendas foram armazenados em um dicionário:\n",
        "```\n",
        "{'Produto A': 300, 'Produto B': 80, 'Produto C': 60,\n",
        " 'Produto D': 200, 'Produto E': 250, 'Produto F': 30}\n",
        "```\n",
        "Escreva um código que calcule o total de vendas e o produto mais vendido."
      ],
      "metadata": {
        "id": "0X8S6s4jMgeF"
      }
    },
    {
      "cell_type": "code",
      "source": [
        "dados_vendas = {'Produto A': 300, 'Produto B': 80, 'Produto C': 60,\n",
        " 'Produto D': 200, 'Produto E': 250, 'Produto F': 30}\n",
        "total_vendas = 0\n",
        "p_mais_vendido = ''\n",
        "unidades_p_mais_vendido = 0\n",
        "\n",
        "for produto in dados_vendas.keys():\n",
        "  total_vendas += dados_vendas[produto]\n",
        "  if dados_vendas[produto] > unidades_p_mais_vendido:\n",
        "   unidades_p_mais_vendido = dados_vendas[produto]\n",
        "   p_mais_vendido = produto\n",
        "\n",
        "print(f'Total de vendas é {total_vendas}')\n",
        "print(f'{p_mais_vendido} é o mais vendido')\n",
        "\n"
      ],
      "metadata": {
        "id": "Xa3DJLtFMgeF",
        "colab": {
          "base_uri": "https://localhost:8080/"
        },
        "outputId": "d528c173-a610-45af-f77d-48a3b7356788"
      },
      "execution_count": null,
      "outputs": [
        {
          "output_type": "stream",
          "name": "stdout",
          "text": [
            "Total de vendas é 920\n",
            "Produto A é o mais vendido\n"
          ]
        }
      ]
    },
    {
      "cell_type": "markdown",
      "source": [
        "#### Questão 12\n",
        "Uma pesquisa de mercado foi feita para decidir qual design de uma marca infantil mais agrada crianças. A pesquisa foi feita e o votos computados podem ser observados abaixo:\n",
        "```\n",
        "'''\n",
        "Tabela de votos da marca\n",
        "Design 1 - 1334 votos\n",
        "Design 2 - 982 votos\n",
        "Design 3 - 1751 votos\n",
        "Design 4 - 210 votos\n",
        "Design 5 - 1811 votos\n",
        "'''\n",
        "```\n",
        "Adapte os dados fornecidos a você para uma estrutura de dicionário e a partir dele, informe o design vencedor e a porcentagem de votos recebidos.\n"
      ],
      "metadata": {
        "id": "nrEwf_1ZMgeF"
      }
    },
    {
      "cell_type": "code",
      "source": [
        "dados_votos = {\n",
        "    \"Design 1\": 1334,\n",
        "    \"Design 2\": 982,\n",
        "    \"Design 3\": 1751,\n",
        "    \"Design 4\": 210,\n",
        "    \"Design 5\": 1811\n",
        "}\n",
        "\n",
        "total_votos = 0\n",
        "mais_votado = ''\n",
        "voto_vencedor = 0\n",
        "\n",
        "# Itera sobre o dicionário de dados de votos\n",
        "for design, voto_design in dados_votos.items():\n",
        "    total_votos += voto_design  # Calcula o total de votos\n",
        "\n",
        "    # Verifica se o design atual tem mais votos que o vencedor atual\n",
        "    if voto_design > voto_vencedor:\n",
        "        voto_vencedor = voto_design  # Atualiza o número de votos do vencedor\n",
        "        mais_votado = design  # Atualiza o design mais votado\n",
        "\n",
        "# Calcula a porcentagem de votos do design mais votado em relação ao total de votos\n",
        "porcentagem = (voto_vencedor / total_votos) * 100\n",
        "\n",
        "# Resultado\n",
        "print(f'{mais_votado} é o vencedor.')\n",
        "print(f'Porcentagem de votos: {porcentagem:.2f}%')"
      ],
      "metadata": {
        "id": "MRPcGR-_MgeF",
        "colab": {
          "base_uri": "https://localhost:8080/"
        },
        "outputId": "102b61d4-761c-4cd4-b90c-5d60c1977fb2"
      },
      "execution_count": null,
      "outputs": [
        {
          "output_type": "stream",
          "name": "stdout",
          "text": [
            "Design 5 é o vencedor: \n",
            "Porcentagem de votos: 29.75%\n"
          ]
        }
      ]
    },
    {
      "cell_type": "markdown",
      "source": [
        "#### Questão 13\n",
        "Os funcionários de um setor da empresa que você trabalha vão receber um abono correspondente a 10% do seu salário devido ao ótimo desempenho do time. O setor financeiro solicitou sua ajuda para a verificação das consequências financeiras que esse abono irá gerar nos recursos. Assim, foi encaminhada para você uma lista com os salários que receberão o abono: `[1172, 1644, 2617, 5130, 5532, 6341, 6650, 7238, 7685, 7782, 7903]`. O abono de cada funcionário não pode ser inferior a 200. Em código, transforme cada um dos salários em chaves de um dicionário e o abono de cada salário no elemento. Depois, informe o total de gastos com o abono, quantos funcionários receberam o abono mínimo e qual o maior valor de abono fornecido.\n"
      ],
      "metadata": {
        "id": "HRTFFzKIMgeF"
      }
    },
    {
      "cell_type": "code",
      "source": [
        "# Lista de salários\n",
        "salarios = [1172, 1644, 2617, 5130, 5532, 6341, 6650, 7238, 7685, 7782, 7903]\n",
        "\n",
        "dic_abonos = {}\n",
        "total_abono = 0\n",
        "abonos_minimo = 0\n",
        "maior_abono = 0\n",
        "\n",
        "# Percorremos toda a lista de salários\n",
        "for salario in salarios:\n",
        "  # Calculamos o valor teórico de abono\n",
        "  abono = salario * 0.1\n",
        "  # Caso o abono seja inferior a 200,\n",
        "  # ajustamos o valor de abono para o mínimo (200)\n",
        "  if abono < 200:\n",
        "    abono = 200\n",
        "  # Adicionamos um novo dado no dicionário chave abono\n",
        "  dic_abonos[salario] = abono\n",
        "\n",
        "# Percorremos todos os valores do dicionário de abonos\n",
        "for abono in dic_abonos.values():\n",
        "  # Contamos o salário minimo\n",
        "  if abono == 200:\n",
        "    abonos_minimo += 1\n",
        "  # Verificamos se o abono lido é maior que o valor armazenado em maior_abono\n",
        "  # Cada vez que o abono superar o valor de maior_abono,\n",
        "  # a variável maior_abono vai ser igual à abono, atribuindo um novo valor\n",
        "  if abono > maior_abono:\n",
        "    maior_abono = abono\n",
        "  # Somamos os abonos\n",
        "  total_abono += abono\n",
        "# Resultados\n",
        "print(f'Abonos: {dic_abonos}')\n",
        "print(f'Total de gasto com abonos: {total_abono}')\n",
        "print(f'Número de funcionários que receberam o abono mínimo: {abonos_minimo}')\n",
        "print(f'Maior valor de abono: {maior_abono}')\n"
      ],
      "metadata": {
        "id": "QsDSCua42bLB"
      },
      "execution_count": null,
      "outputs": []
    },
    {
      "cell_type": "markdown",
      "source": [
        "#### Questão 14\n",
        "Uma equipe de cientistas de dados está estudando a diversidade biológica em uma floresta. A equipe fez a coleta de informações sobre o número de espécies de plantas e animais em cada área da floresta e armazenaram essas informações em um dicionário. Nele, a chave descreve a área dos dados e os valores nas listas correspondem às espécies de plantas e animais nas áreas, respectivamente.\n",
        "```\n",
        "{'Área Norte': [2819, 7236],\n",
        " 'Área Leste': [1440, 9492],\n",
        " 'Área Sul': [5969, 7496],\n",
        " 'Área Oeste': [14446, 49688],\n",
        " 'Área Centro': [22558, 45148]}\n",
        "```\n",
        "Escreva um código para calcular a média de espécies por área e identificar a área com a maior diversidade biológica. Dica: use as funções built-in [`sum()`](https://docs.python.org/3/library/functions.html#sum) e [`len()`](https://docs.python.org/3/library/functions.html#len).\n"
      ],
      "metadata": {
        "id": "6dEXZEwjMlWy"
      }
    },
    {
      "cell_type": "code",
      "source": [
        "#Organiza os dados em um dicionário:\n",
        "dados_floresta = {'Área Norte': [2819, 7236],\n",
        " 'Área Leste': [1440, 9492],\n",
        " 'Área Sul': [5969, 7496],\n",
        " 'Área Oeste': [14446, 49688],\n",
        " 'Área Centro': [22558, 45148]}\n",
        "\n",
        "#Declara as variáveis:\n",
        "soma_media = 0\n",
        "maior_diverisidade = ''\n",
        "maior_soma = 0\n",
        "\n",
        "#Itera sobre o dicionário para calcular soma e média:\n",
        "for area, especies in dados_floresta.items():\n",
        "  soma_especies = sum(especies)\n",
        "  media = soma_especies / len(especies)\n",
        "  print(f'A {area} tem a média de {media} espécies')\n",
        "\n",
        "#Verifica se a soma das espécies é maior que o último dado \"maior soma e atribui um valor:\n",
        "  if soma_especies > maior_soma:\n",
        "      maior_soma = soma_especies\n",
        "      maior_diversidade = area\n",
        "      soma_media += media\n",
        "\n",
        "# A média total será dada pela soma_media dividida pela quantidade de áreas\n",
        "media_total = soma_media / len(dados_floresta)\n",
        "print(f'Média geral de espécies: {media_total}')\n",
        "print(f'Área com a maior diversidade biológica: {maior_diversidade}')\n",
        "\n"
      ],
      "metadata": {
        "id": "eQnOUDfYMlWy",
        "colab": {
          "base_uri": "https://localhost:8080/"
        },
        "outputId": "82a2cd9c-de71-4bd4-d708-56d1b77625d0"
      },
      "execution_count": null,
      "outputs": [
        {
          "output_type": "stream",
          "name": "stdout",
          "text": [
            "A Área Norte tem a média de 5027.5 espécies\n",
            "A Área Leste tem a média de 5466.0 espécies\n",
            "A Área Sul tem a média de 6732.5 espécies\n",
            "A Área Oeste tem a média de 32067.0 espécies\n",
            "A Área Centro tem a média de 33853.0 espécies\n",
            "Média geral de espécies: 16629.2\n",
            "Área com a maior diversidade biológica: Área Centro\n"
          ]
        }
      ]
    },
    {
      "cell_type": "markdown",
      "source": [
        "#### Questão 15\n",
        "O setor de RH da sua empresa te pediu uma ajuda para analisar as idades dos funcionários de 4 setores da empresa. Para isso, ele te forneceu os seguintes dados:\n",
        "```\n",
        "{'Setor A': [22, 26, 30, 30, 35, 38, 40, 56, 57, 65],\n",
        " 'Setor B': [22, 24, 26, 33, 41, 49, 50, 54, 60, 64],\n",
        " 'Setor C': [23, 26, 26, 29, 34, 35, 36, 41, 52, 56],\n",
        " 'Setor D': [19, 20, 25, 27, 34, 39, 42, 44, 50, 65]}\n",
        "```\n",
        "Sabendo que cada setor tem 10 funcionários, construa um código que calcule a média de idade de cada setor, a idade média geral entre todos os setores e quantas pessoas estão acima da idade média geral.\n"
      ],
      "metadata": {
        "id": "r0RW2Sy_MlWy"
      }
    },
    {
      "cell_type": "code",
      "source": [
        "# Especificamos os dados para um dicionário\n",
        "dados = {'Setor A': [22, 26, 30, 30, 35, 38, 40, 56, 57, 65],\n",
        "        'Setor B': [22, 24, 26, 33, 41, 49, 50, 54, 60, 64],\n",
        "        'Setor C': [23, 26, 26, 29, 34, 35, 36, 41, 52, 56],\n",
        "        'Setor D': [19, 20, 25, 27, 34, 39, 42, 44, 50, 65]}\n",
        "# Inicializamos a variável que irá somar todas as idades\n",
        "total_idades = 0\n",
        "# Percorremos os valores de chaves e elementos do dicionário\n",
        "for setor, idades in dados.items():\n",
        "  # Calculamos a média dividindo a soma das idades pela quantidade funcionários em cada setor\n",
        "  media_idade = sum(idades) / len(idades)\n",
        "  # Imprimimos\n",
        "  print(f'O {setor} tem a média de {media_idade}')\n",
        "  # Somamos as médias\n",
        "  total_idades += sum(idades)\n",
        "# A média total será dada pela total_idades dividida pela quantidade de pessoas totais (setores * funcionários por setor)\n",
        "media_total = total_idades / (len(idades) * len(dados))\n",
        "print(f'A média de idade geral é {media_total}')\n",
        "\n",
        "# Inicializamos a variável que irá contar todas pessoas com idade acima da média\n",
        "acima_media = 0\n",
        "# Percorremos novamente os valores de chaves e elementos do dicionário\n",
        "for setor, idades in dados.items():\n",
        "  # Lemos os elementos (idades) dentro de cada lista de idades no dicionário\n",
        "  for id in idades:\n",
        "    # Verificamos se o valor da idade é superior à média total\n",
        "    if id > media_total:\n",
        "      # Caso o valor da idade seja superior à média, incrementamos mais um no contador\n",
        "      acima_media += 1\n",
        "# Resultado\n",
        "print(f'{acima_media} pessoas estão acima da idade média geral')\n"
      ],
      "metadata": {
        "id": "wCiwyKP3MmTz",
        "colab": {
          "base_uri": "https://localhost:8080/"
        },
        "outputId": "9b11f419-17ca-49d9-cece-4b5ff9eb0202"
      },
      "execution_count": null,
      "outputs": [
        {
          "output_type": "stream",
          "name": "stdout",
          "text": [
            "O Setor A tem a média de 39.9\n",
            "O Setor B tem a média de 42.3\n",
            "O Setor C tem a média de 35.8\n",
            "O Setor D tem a média de 36.5\n",
            "A média de idade geral é 38.625\n",
            "18 pessoas estão acima da idade média geral\n"
          ]
        }
      ]
    }
  ]
}